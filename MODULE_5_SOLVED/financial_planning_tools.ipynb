{
 "cells": [
  {
   "cell_type": "markdown",
   "metadata": {},
   "source": [
    "# Financial Planning with APIs and Simulations\n",
    "\n",
    "In this Challenge, you’ll create two financial analysis tools by using a single Jupyter notebook:\n",
    "\n",
    "Part 1: A financial planner for emergencies. The members will be able to use this tool to visualize their current savings. The members can then determine if they have enough reserves for an emergency fund.\n",
    "\n",
    "Part 2: A financial planner for retirement. This tool will forecast the performance of their retirement portfolio in 30 years. To do this, the tool will make an Alpaca API call via the Alpaca SDK to get historical price data for use in Monte Carlo simulations.\n",
    "\n",
    "You’ll use the information from the Monte Carlo simulation to answer questions about the portfolio in your Jupyter notebook.\n",
    "\n"
   ]
  },
  {
   "cell_type": "code",
   "execution_count": 2,
   "metadata": {},
   "outputs": [],
   "source": [
    "# Import the required libraries and dependencies\n",
    "import os\n",
    "import requests\n",
    "import json\n",
    "import pandas as pd\n",
    "from dotenv import load_dotenv\n",
    "import alpaca_trade_api as tradeapi\n",
    "from MCForecastTools import MCSimulation\n",
    "\n",
    "%matplotlib inline"
   ]
  },
  {
   "cell_type": "code",
   "execution_count": 3,
   "metadata": {},
   "outputs": [
    {
     "data": {
      "text/plain": [
       "True"
      ]
     },
     "execution_count": 3,
     "metadata": {},
     "output_type": "execute_result"
    }
   ],
   "source": [
    "# Load the environment variables from the .env file\n",
    "#by calling the load_dotenv function\n",
    "load_dotenv()"
   ]
  },
  {
   "cell_type": "markdown",
   "metadata": {},
   "source": [
    "## Part 1: Create a Financial Planner for Emergencies"
   ]
  },
  {
   "cell_type": "markdown",
   "metadata": {},
   "source": [
    "### Evaluate the Cryptocurrency Wallet by Using the Requests Library\n",
    "\n",
    "In this section, you’ll determine the current value of a member’s cryptocurrency wallet. You’ll collect the current prices for the Bitcoin and Ethereum cryptocurrencies by using the Python Requests library. For the prototype, you’ll assume that the member holds the 1.2 Bitcoins (BTC) and 5.3 Ethereum coins (ETH). To do all this, complete the following steps:\n",
    "\n",
    "1. Create a variable named `monthly_income`, and set its value to `12000`.\n",
    "\n",
    "2. Use the Requests library to get the current price (in US dollars) of Bitcoin (BTC) and Ethereum (ETH) by using the API endpoints that the starter code supplies.\n",
    "\n",
    "3. Navigate the JSON response object to access the current price of each coin, and store each in a variable.\n",
    "\n",
    "    > **Hint** Note the specific identifier for each cryptocurrency in the API JSON response. The Bitcoin identifier is `1`, and the Ethereum identifier is `1027`.\n",
    "\n",
    "4. Calculate the value, in US dollars, of the current amount of each cryptocurrency and of the entire cryptocurrency wallet.\n",
    "\n"
   ]
  },
  {
   "cell_type": "code",
   "execution_count": 4,
   "metadata": {},
   "outputs": [],
   "source": [
    "# The current number of coins for each cryptocurrency asset held in the portfolio.\n",
    "btc_coins = 1.2\n",
    "eth_coins = 5.3"
   ]
  },
  {
   "cell_type": "markdown",
   "metadata": {},
   "source": [
    "#### Step 1: Create a variable named `monthly_income`, and set its value to `12000`."
   ]
  },
  {
   "cell_type": "code",
   "execution_count": 5,
   "metadata": {},
   "outputs": [],
   "source": [
    "# The monthly amount for the member's household income\n",
    "monthly_income= 12000\n"
   ]
  },
  {
   "cell_type": "markdown",
   "metadata": {},
   "source": [
    "#### Review the endpoint URLs for the API calls to Free Crypto API in order to get the current pricing information for both BTC and ETH."
   ]
  },
  {
   "cell_type": "code",
   "execution_count": 6,
   "metadata": {},
   "outputs": [],
   "source": [
    "# The Free Crypto API Call endpoint URLs for the held cryptocurrency assets\n",
    "btc_url = \"https://api.alternative.me/v2/ticker/Bitcoin/?convert=USD\"\n",
    "eth_url = \"https://api.alternative.me/v2/ticker/Ethereum/?convert=USD\""
   ]
  },
  {
   "cell_type": "markdown",
   "metadata": {},
   "source": [
    "#### Step 2. Use the Requests library to get the current price (in US dollars) of Bitcoin (BTC) and Ethereum (ETH) by using the API endpoints that the starter code supplied."
   ]
  },
  {
   "cell_type": "code",
   "execution_count": 7,
   "metadata": {},
   "outputs": [
    {
     "name": "stdout",
     "output_type": "stream",
     "text": [
      "{\n",
      "    \"data\": {\n",
      "        \"1\": {\n",
      "            \"circulating_supply\": 18879512,\n",
      "            \"id\": 1,\n",
      "            \"last_updated\": 1637517770,\n",
      "            \"max_supply\": 21000000,\n",
      "            \"name\": \"Bitcoin\",\n",
      "            \"quotes\": {\n",
      "                \"USD\": {\n",
      "                    \"market_cap\": 1127004167605,\n",
      "                    \"percent_change_1h\": -1.05735504722022,\n",
      "                    \"percent_change_24h\": 2.90807720570602,\n",
      "                    \"percent_change_7d\": -7.69294192962274,\n",
      "                    \"percentage_change_1h\": -1.05735504722022,\n",
      "                    \"percentage_change_24h\": 2.90807720570602,\n",
      "                    \"percentage_change_7d\": -7.69294192962274,\n",
      "                    \"price\": 59686.0,\n",
      "                    \"volume_24h\": 26085363169\n",
      "                }\n",
      "            },\n",
      "            \"rank\": 1,\n",
      "            \"symbol\": \"BTC\",\n",
      "            \"total_supply\": 18879512,\n",
      "            \"website_slug\": \"bitcoin\"\n",
      "        }\n",
      "    },\n",
      "    \"metadata\": {\n",
      "        \"error\": null,\n",
      "        \"num_cryptocurrencies\": 3105,\n",
      "        \"timestamp\": 1637517770\n",
      "    }\n",
      "}\n"
     ]
    }
   ],
   "source": [
    "# Using the Python requests library, make an API call to access the current price of BTC\n",
    "btc_response = requests.get(btc_url).json()\n",
    "\n",
    "# Use the json.dumps function to review the response data from the API call\n",
    "# Use the indent and sort_keys parameters to make the response object readable\n",
    "print(json.dumps(btc_response, sort_keys=True, indent=4))\n",
    "\n"
   ]
  },
  {
   "cell_type": "code",
   "execution_count": 8,
   "metadata": {},
   "outputs": [
    {
     "name": "stdout",
     "output_type": "stream",
     "text": [
      "{\n",
      "    \"data\": {\n",
      "        \"1027\": {\n",
      "            \"circulating_supply\": 118433833,\n",
      "            \"id\": 1027,\n",
      "            \"last_updated\": 1637517737,\n",
      "            \"max_supply\": 0,\n",
      "            \"name\": \"Ethereum\",\n",
      "            \"quotes\": {\n",
      "                \"USD\": {\n",
      "                    \"market_cap\": 519893581690,\n",
      "                    \"percent_change_1h\": -1.22166637913074,\n",
      "                    \"percent_change_24h\": 3.17488173398139,\n",
      "                    \"percent_change_7d\": -5.92029724634461,\n",
      "                    \"percentage_change_1h\": -1.22166637913074,\n",
      "                    \"percentage_change_24h\": 3.17488173398139,\n",
      "                    \"percentage_change_7d\": -5.92029724634461,\n",
      "                    \"price\": 4390.23,\n",
      "                    \"volume_24h\": 15686188398\n",
      "                }\n",
      "            },\n",
      "            \"rank\": 2,\n",
      "            \"symbol\": \"ETH\",\n",
      "            \"total_supply\": 118433833,\n",
      "            \"website_slug\": \"ethereum\"\n",
      "        }\n",
      "    },\n",
      "    \"metadata\": {\n",
      "        \"error\": null,\n",
      "        \"num_cryptocurrencies\": 3105,\n",
      "        \"timestamp\": 1637517737\n",
      "    }\n",
      "}\n"
     ]
    }
   ],
   "source": [
    "# Using the Python requests library, make an API call to access the current price ETH\n",
    "eth_response = requests.get(eth_url).json()\n",
    "\n",
    "# Use the json.dumps function to review the response data from the API call\n",
    "# Use the indent and sort_keys parameters to make the response object readable\n",
    "print(json.dumps(eth_response, sort_keys=True, indent=4))\n"
   ]
  },
  {
   "cell_type": "markdown",
   "metadata": {},
   "source": [
    "#### Step 3: Navigate the JSON response object to access the current price of each coin, and store each in a variable."
   ]
  },
  {
   "cell_type": "code",
   "execution_count": 9,
   "metadata": {},
   "outputs": [
    {
     "name": "stdout",
     "output_type": "stream",
     "text": [
      "59686.0\n"
     ]
    }
   ],
   "source": [
    "# Navigate the BTC response object to access the current price of BTC\n",
    "btc_price = btc_response['data']['1']['quotes']['USD']['price']\n",
    "\n",
    "# Print the current price of BTC\n",
    "print(btc_price)\n"
   ]
  },
  {
   "cell_type": "code",
   "execution_count": 10,
   "metadata": {},
   "outputs": [
    {
     "name": "stdout",
     "output_type": "stream",
     "text": [
      "4390.23\n"
     ]
    }
   ],
   "source": [
    "# Navigate the BTC response object to access the current price of ETH\n",
    "eth_price = eth_response ['data']['1027']['quotes']['USD']['price']\n",
    "\n",
    "# Print the current price of ETH\n",
    "print(eth_price)\n"
   ]
  },
  {
   "cell_type": "markdown",
   "metadata": {},
   "source": [
    "### Step 4: Calculate the value, in US dollars, of the current amount of each cryptocurrency and of the entire cryptocurrency wallet."
   ]
  },
  {
   "cell_type": "code",
   "execution_count": 11,
   "metadata": {},
   "outputs": [
    {
     "name": "stdout",
     "output_type": "stream",
     "text": [
      "71623.2\n"
     ]
    }
   ],
   "source": [
    "# Compute the current value of the BTC holding \n",
    "btc_value = btc_coins*btc_price\n",
    "\n",
    "print(btc_value)\n"
   ]
  },
  {
   "cell_type": "code",
   "execution_count": 12,
   "metadata": {},
   "outputs": [
    {
     "name": "stdout",
     "output_type": "stream",
     "text": [
      "23268.218999999997\n"
     ]
    }
   ],
   "source": [
    "# Compute the current value of the ETH holding \n",
    "eth_value = eth_coins*eth_price\n",
    "\n",
    "# Print current value of your holding in ETH\n",
    "print(eth_value)\n"
   ]
  },
  {
   "cell_type": "code",
   "execution_count": 13,
   "metadata": {},
   "outputs": [
    {
     "name": "stdout",
     "output_type": "stream",
     "text": [
      "94891.419\n"
     ]
    }
   ],
   "source": [
    "# Compute the total value of the cryptocurrency wallet\n",
    "# Add the value of the BTC holding to the value of the ETH holding\n",
    "total_crypto_wallet = btc_value + eth_value\n",
    "\n",
    "# Print current cryptocurrency wallet balance\n",
    "print(total_crypto_wallet)\n"
   ]
  },
  {
   "cell_type": "markdown",
   "metadata": {},
   "source": [
    "### Evaluate the Stock and Bond Holdings by Using the Alpaca SDK\n",
    "\n",
    "In this section, you’ll determine the current value of a member’s stock and bond holdings. You’ll make an API call to Alpaca via the Alpaca SDK to get the current closing prices of the SPDR S&P 500 ETF Trust (ticker: SPY) and of the iShares Core US Aggregate Bond ETF (ticker: AGG). For the prototype, assume that the member holds 110 shares of SPY, which represents the stock portion of their portfolio, and 200 shares of AGG, which represents the bond portion. To do all this, complete the following steps:\n",
    "\n",
    "1. In the `Starter_Code` folder, create an environment file (`.env`) to store the values of your Alpaca API key and Alpaca secret key.\n",
    "\n",
    "2. Set the variables for the Alpaca API and secret keys. Using the Alpaca SDK, create the Alpaca `tradeapi.REST` object. In this object, include the parameters for the Alpaca API key, the secret key, and the version number.\n",
    "\n",
    "3. Set the following parameters for the Alpaca API call:\n",
    "\n",
    "    - `tickers`: Use the tickers for the member’s stock and bond holdings.\n",
    "\n",
    "    - `timeframe`: Use a time frame of one day.\n",
    "\n",
    "    - `start_date` and `end_date`: Use the same date for these parameters, and format them with the date of the previous weekday (or `2020-08-07`). This is because you want the one closing price for the most-recent trading day.\n",
    "\n",
    "4. Get the current closing prices for `SPY` and `AGG` by using the Alpaca `get_barset` function. Format the response as a Pandas DataFrame by including the `df` property at the end of the `get_barset` function.\n",
    "\n",
    "5. Navigating the Alpaca response DataFrame, select the `SPY` and `AGG` closing prices, and store them as variables.\n",
    "\n",
    "6. Calculate the value, in US dollars, of the current amount of shares in each of the stock and bond portions of the portfolio, and print the results.\n"
   ]
  },
  {
   "cell_type": "markdown",
   "metadata": {},
   "source": [
    "#### Review the total number of shares held in both (SPY) and (AGG)."
   ]
  },
  {
   "cell_type": "code",
   "execution_count": 14,
   "metadata": {},
   "outputs": [],
   "source": [
    "# Current amount of shares held in both the stock (SPY) and bond (AGG) portion of the portfolio.\n",
    "spy_shares = 110\n",
    "agg_shares = 200\n"
   ]
  },
  {
   "cell_type": "markdown",
   "metadata": {},
   "source": [
    "#### Step 1: In the `Starter_Code` folder, create an environment file (`.env`) to store the values of your Alpaca API key and Alpaca secret key."
   ]
  },
  {
   "cell_type": "markdown",
   "metadata": {},
   "source": [
    "#### Step 2: Set the variables for the Alpaca API and secret keys. Using the Alpaca SDK, create the Alpaca `tradeapi.REST` object. In this object, include the parameters for the Alpaca API key, the secret key, and the version number."
   ]
  },
  {
   "cell_type": "code",
   "execution_count": 15,
   "metadata": {},
   "outputs": [],
   "source": [
    "# Set the variables for the Alpaca API and secret keys\n",
    "alpaca_api_key = os.getenv(\"ALPACA_API_KEY\")\n",
    "alpca_secret_key = os.getenv(\"ALPACA_SECRET_KEY\")\n",
    "\n",
    "type(alpaca_api_key)\n",
    "type(alpca_secret_key)\n",
    "\n",
    "# Create the Alpaca tradeapi.REST object\n",
    "alpaca = tradeapi.REST(alpaca_api_key, alpca_secret_key, api_version= \"v2\")\n"
   ]
  },
  {
   "cell_type": "markdown",
   "metadata": {},
   "source": [
    "#### Step 3: Set the following parameters for the Alpaca API call:\n",
    "\n",
    "- `tickers`: Use the tickers for the member’s stock and bond holdings.\n",
    "\n",
    "- `timeframe`: Use a time frame of one day.\n",
    "\n",
    "- `start_date` and `end_date`: Use the same date for these parameters, and format them with the date of the previous weekday (or `2020-08-07`). This is because you want the one closing price for the most-recent trading day.\n"
   ]
  },
  {
   "cell_type": "code",
   "execution_count": 16,
   "metadata": {},
   "outputs": [],
   "source": [
    "# Set the tickers for both the bond and stock portion of the portfolio\n",
    "tickers = [\"SPY\", \"AGG\"]\n",
    "\n",
    "# Set timeframe to 1D \n",
    "TimeFrame = \"1D\"\n",
    "\n",
    "# Format current date as ISO format\n",
    "# Set both the start and end date at the date of your prior weekday \n",
    "# This will give you the closing price of the previous trading day\n",
    "# Alternatively you can use a start and end date of 2020-08-07\n",
    "start_date = pd.Timestamp(\"2020-08-07\", tz=\"America/New_York\").isoformat()\n",
    "end_date= pd.Timestamp(\"2020-08-07\", tz=\"America/New_York\").isoformat()\n"
   ]
  },
  {
   "cell_type": "markdown",
   "metadata": {},
   "source": [
    "#### Step 4: Get the current closing prices for `SPY` and `AGG` by using the Alpaca `get_barset` function. Format the response as a Pandas DataFrame by including the `df` property at the end of the `get_barset` function."
   ]
  },
  {
   "cell_type": "code",
   "execution_count": null,
   "metadata": {},
   "outputs": [],
   "source": []
  },
  {
   "cell_type": "code",
   "execution_count": 17,
   "metadata": {},
   "outputs": [
    {
     "data": {
      "text/plain": [
       "<bound method NDFrame.head of                               AGG                                        SPY  \\\n",
       "                             open    high      low    close   volume    open   \n",
       "time                                                                           \n",
       "2020-08-07 00:00:00-04:00  119.66  119.73  119.395  119.445  8830420  333.28   \n",
       "\n",
       "                                                            \n",
       "                             high    low   close    volume  \n",
       "time                                                        \n",
       "2020-08-07 00:00:00-04:00  334.88  332.3  334.55  98710236  >"
      ]
     },
     "execution_count": 17,
     "metadata": {},
     "output_type": "execute_result"
    }
   ],
   "source": [
    "# Use the Alpaca get_barset function to get current closing prices the portfolio\n",
    "# Be sure to set the `df` property after the function to format the response object as a DataFrame\n",
    "df_portfolio = alpaca.get_barset(\n",
    "    tickers,\n",
    "    TimeFrame, \n",
    "    start= start_date, \n",
    "    end = end_date\n",
    ").df\n",
    "\n",
    "# Review the first 5 rows of the Alpaca DataFrame\n",
    "df_portfolio.head\n"
   ]
  },
  {
   "cell_type": "markdown",
   "metadata": {},
   "source": [
    "#### Step 5: Navigating the Alpaca response DataFrame, select the `SPY` and `AGG` closing prices, and store them as variables."
   ]
  },
  {
   "cell_type": "code",
   "execution_count": 18,
   "metadata": {},
   "outputs": [
    {
     "name": "stdout",
     "output_type": "stream",
     "text": [
      "119.445\n"
     ]
    }
   ],
   "source": [
    "# Access the closing price for AGG from the Alpaca DataFrame\n",
    "# Converting the value to a floating point number\n",
    "agg_close_price = float(df_portfolio[\"AGG\"][\"close\"])\n",
    "\n",
    "# Print the AGG closing price\n",
    "type(agg_close_price)\n",
    "print(agg_close_price)\n"
   ]
  },
  {
   "cell_type": "code",
   "execution_count": 19,
   "metadata": {},
   "outputs": [
    {
     "name": "stdout",
     "output_type": "stream",
     "text": [
      "334.55\n"
     ]
    }
   ],
   "source": [
    "# Access the closing price for SPY from the Alpaca DataFrame\n",
    "# Converting the value to a floating point number\n",
    "spy_close_price = float(df_portfolio[\"SPY\"][\"close\"])\n",
    "\n",
    "# Print the SPY closing price\n",
    "print(spy_close_price)\n"
   ]
  },
  {
   "cell_type": "markdown",
   "metadata": {},
   "source": [
    "#### Step 6: Calculate the value, in US dollars, of the current amount of shares in each of the stock and bond portions of the portfolio, and print the results."
   ]
  },
  {
   "cell_type": "code",
   "execution_count": 20,
   "metadata": {},
   "outputs": [
    {
     "name": "stdout",
     "output_type": "stream",
     "text": [
      "23889.0\n"
     ]
    }
   ],
   "source": [
    "# Calculate the current value of the bond portion of the portfolio\n",
    "agg_value = agg_close_price * agg_shares\n",
    "\n",
    "# Print the current value of the bond portfolio\n",
    "print(agg_value)\n"
   ]
  },
  {
   "cell_type": "code",
   "execution_count": 21,
   "metadata": {},
   "outputs": [
    {
     "name": "stdout",
     "output_type": "stream",
     "text": [
      "36800.5\n"
     ]
    }
   ],
   "source": [
    "# Calculate the current value of the stock portion of the portfolio\n",
    "spy_value = spy_shares * spy_close_price\n",
    "\n",
    "# Print the current value of the stock portfolio\n",
    "print(spy_value)\n"
   ]
  },
  {
   "cell_type": "code",
   "execution_count": 22,
   "metadata": {},
   "outputs": [
    {
     "name": "stdout",
     "output_type": "stream",
     "text": [
      "60689.5\n"
     ]
    }
   ],
   "source": [
    "# Calculate the total value of the stock and bond portion of the portfolio\n",
    "total_stocks_bonds = spy_value + agg_value\n",
    "\n",
    "# Print the current balance of the stock and bond portion of the portfolio\n",
    "print(total_stocks_bonds)\n"
   ]
  },
  {
   "cell_type": "code",
   "execution_count": 23,
   "metadata": {},
   "outputs": [
    {
     "name": "stdout",
     "output_type": "stream",
     "text": [
      "155580.919\n"
     ]
    }
   ],
   "source": [
    "# Calculate the total value of the member's entire savings portfolio\n",
    "# Add the value of the cryptocurrency walled to the value of the total stocks and bonds\n",
    "total_portfolio = total_crypto_wallet + total_stocks_bonds\n",
    "\n",
    "# Print current cryptocurrency wallet balance\n",
    "print(total_portfolio)\n"
   ]
  },
  {
   "cell_type": "markdown",
   "metadata": {},
   "source": [
    "### Evaluate the Emergency Fund\n",
    "\n",
    "In this section, you’ll use the valuations for the cryptocurrency wallet and for the stock and bond portions of the portfolio to determine if the credit union member has enough savings to build an emergency fund into their financial plan. To do this, complete the following steps:\n",
    "\n",
    "1. Create a Python list named `savings_data` that has two elements. The first element contains the total value of the cryptocurrency wallet. The second element contains the total value of the stock and bond portions of the portfolio.\n",
    "\n",
    "2. Use the `savings_data` list to create a Pandas DataFrame named `savings_df`, and then display this DataFrame. The function to create the DataFrame should take the following three parameters:\n",
    "\n",
    "    - `savings_data`: Use the list that you just created.\n",
    "\n",
    "    - `columns`: Set this parameter equal to a Python list with a single value called `amount`.\n",
    "\n",
    "    - `index`: Set this parameter equal to a Python list with the values of `crypto` and `stock/bond`.\n",
    "\n",
    "3. Use the `savings_df` DataFrame to plot a pie chart that visualizes the composition of the member’s portfolio. The y-axis of the pie chart uses `amount`. Be sure to add a title.\n",
    "\n",
    "4. Using Python, determine if the current portfolio has enough to create an emergency fund as part of the member’s financial plan. Ideally, an emergency fund should equal to three times the member’s monthly income. To do this, implement the following steps:\n",
    "\n",
    "    1. Create a variable named `emergency_fund_value`, and set it equal to three times the value of the member’s `monthly_income` of $12000. (You set this earlier in Part 1).\n",
    "\n",
    "    2. Create a series of three if statements to determine if the member’s total portfolio is large enough to fund the emergency portfolio:\n",
    "\n",
    "        1. If the total portfolio value is greater than the emergency fund value, display a message congratulating the member for having enough money in this fund.\n",
    "\n",
    "        2. Else if the total portfolio value is equal to the emergency fund value, display a message congratulating the member on reaching this important financial goal.\n",
    "\n",
    "        3. Else the total portfolio is less than the emergency fund value, so display a message showing how many dollars away the member is from reaching the goal. (Subtract the total portfolio value from the emergency fund value.)\n"
   ]
  },
  {
   "cell_type": "markdown",
   "metadata": {},
   "source": [
    "#### Step 1: Create a Python list named `savings_data` that has two elements. The first element contains the total value of the cryptocurrency wallet. The second element contains the total value of the stock and bond portions of the portfolio."
   ]
  },
  {
   "cell_type": "code",
   "execution_count": 24,
   "metadata": {},
   "outputs": [
    {
     "name": "stdout",
     "output_type": "stream",
     "text": [
      "[94891.419, 60689.5]\n"
     ]
    }
   ],
   "source": [
    "# Consolidate financial assets data into a Python list\n",
    "savings_data = [total_crypto_wallet, total_stocks_bonds]\n",
    "\n",
    "# Review the Python list savings_data\n",
    "print(savings_data)\n",
    "    "
   ]
  },
  {
   "cell_type": "markdown",
   "metadata": {},
   "source": [
    "#### Step 2: Use the `savings_data` list to create a Pandas DataFrame named `savings_df`, and then display this DataFrame. The function to create the DataFrame should take the following three parameters:\n",
    "\n",
    "- `savings_data`: Use the list that you just created.\n",
    "\n",
    "- `columns`: Set this parameter equal to a Python list with a single value called `amount`.\n",
    "\n",
    "- `index`: Set this parameter equal to a Python list with the values of `crypto` and `stock/bond`.\n"
   ]
  },
  {
   "cell_type": "code",
   "execution_count": 25,
   "metadata": {},
   "outputs": [
    {
     "name": "stdout",
     "output_type": "stream",
     "text": [
      "               amount\n",
      "crypto      94891.419\n",
      "stock/bond  60689.500\n"
     ]
    }
   ],
   "source": [
    "# Create a Pandas DataFrame called savings_df \n",
    "savings_df = pd.DataFrame(savings_data, columns= [\"amount\"], index= [\"crypto\", \"stock/bond\"])\n",
    "\n",
    "# Display the savings_df DataFrame\n",
    "print(savings_df)\n"
   ]
  },
  {
   "cell_type": "markdown",
   "metadata": {},
   "source": [
    "#### Step 3: Use the `savings_df` DataFrame to plot a pie chart that visualizes the composition of the member’s portfolio. The y-axis of the pie chart uses `amount`. Be sure to add a title."
   ]
  },
  {
   "cell_type": "code",
   "execution_count": 26,
   "metadata": {},
   "outputs": [
    {
     "data": {
      "text/plain": [
       "<AxesSubplot:title={'center':'member stock & bond breakdown'}, ylabel='amount'>"
      ]
     },
     "execution_count": 26,
     "metadata": {},
     "output_type": "execute_result"
    },
    {
     "data": {
      "image/png": "[encoded data removed]",
      "text/plain": [
       "<Figure size 432x288 with 1 Axes>"
      ]
     },
     "metadata": {},
     "output_type": "display_data"
    }
   ],
   "source": [
    "# Plot the total value of the member's portfolio (crypto and stock/bond) in a pie chart\n",
    "savings_df.plot.pie(title= \"member stock & bond breakdown\", y = \"amount\")\n"
   ]
  },
  {
   "cell_type": "markdown",
   "metadata": {},
   "source": [
    "#### Step 4: Using Python, determine if the current portfolio has enough to create an emergency fund as part of the member’s financial plan. Ideally, an emergency fund should equal to three times the member’s monthly income. To do this, implement the following steps:\n",
    "\n",
    "Step 1. Create a variable named `emergency_fund_value`, and set it equal to three times the value of the member’s `monthly_income` of 12000. (You set this earlier in Part 1).\n",
    "\n",
    "Step 2. Create a series of three if statements to determine if the member’s total portfolio is large enough to fund the emergency portfolio:\n",
    "\n",
    "* If the total portfolio value is greater than the emergency fund value, display a message congratulating the member for having enough money in this fund.\n",
    "\n",
    "* Else if the total portfolio value is equal to the emergency fund value, display a message congratulating the member on reaching this important financial goal.\n",
    "\n",
    "* Else the total portfolio is less than the emergency fund value, so display a message showing how many dollars away the member is from reaching the goal. (Subtract the total portfolio value from the emergency fund value.)\n"
   ]
  },
  {
   "cell_type": "markdown",
   "metadata": {},
   "source": [
    "##### Step 4-1: Create a variable named `emergency_fund_value`, and set it equal to three times the value of the member’s `monthly_income` of 12000. (You set this earlier in Part 1)."
   ]
  },
  {
   "cell_type": "code",
   "execution_count": 27,
   "metadata": {},
   "outputs": [
    {
     "name": "stdout",
     "output_type": "stream",
     "text": [
      "36000\n"
     ]
    }
   ],
   "source": [
    "# Create a variable named emergency_fund_value\n",
    "emergency_fund_value = monthly_income * 3\n",
    "\n",
    "print(emergency_fund_value)\n"
   ]
  },
  {
   "cell_type": "markdown",
   "metadata": {},
   "source": [
    "##### Step 4-2: Create a series of three if statements to determine if the member’s total portfolio is large enough to fund the emergency portfolio:\n",
    "\n",
    "* If the total portfolio value is greater than the emergency fund value, display a message congratulating the member for having enough money in this fund.\n",
    "\n",
    "* Else if the total portfolio value is equal to the emergency fund value, display a message congratulating the member on reaching this important financial goal.\n",
    "\n",
    "* Else the total portfolio is less than the emergency fund value, so display a message showing how many dollars away the member is from reaching the goal. (Subtract the total portfolio value from the emergency fund value.)"
   ]
  },
  {
   "cell_type": "code",
   "execution_count": 28,
   "metadata": {},
   "outputs": [
    {
     "name": "stdout",
     "output_type": "stream",
     "text": [
      "congratulations! your rainy day fund will last you through the storm.\n"
     ]
    }
   ],
   "source": [
    "# Evaluate the possibility of creating an emergency fund with 3 conditions:\n",
    "if total_portfolio > emergency_fund_value:\n",
    "    print(\"congratulations! your rainy day fund will last you through the storm.\")\n",
    "\n",
    "elif total_portfolio == emergency_fund_value:\n",
    "    print(\"You have reached an important milestone, keep it up!\")\n",
    "\n",
    "else:\n",
    "    print(f\"You are ${emergency_fund_value - total_portfolio} from reaching your rainy day fund goal\")\n",
    "\n"
   ]
  },
  {
   "cell_type": "markdown",
   "metadata": {},
   "source": [
    "## Part 2: Create a Financial Planner for Retirement"
   ]
  },
  {
   "cell_type": "markdown",
   "metadata": {},
   "source": [
    "### Create the Monte Carlo Simulation\n",
    "\n",
    "In this section, you’ll use the MCForecastTools library to create a Monte Carlo simulation for the member’s savings portfolio. To do this, complete the following steps:\n",
    "\n",
    "1. Make an API call via the Alpaca SDK to get 3 years of historical closing prices for a traditional 60/40 portfolio split: 60% stocks (SPY) and 40% bonds (AGG).\n",
    "\n",
    "2. Run a Monte Carlo simulation of 500 samples and 30 years for the 60/40 portfolio, and then plot the results.The following image shows the overlay line plot resulting from a simulation with these characteristics. However, because a random number generator is used to run each live Monte Carlo simulation, your image will differ slightly from this exact image:\n",
    "\n",
    "![A screenshot depicts the resulting plot.](Images/5-4-monte-carlo-line-plot.png)\n",
    "\n",
    "3. Plot the probability distribution of the Monte Carlo simulation. Plot the probability distribution of the Monte Carlo simulation. The following image shows the histogram plot resulting from a simulation with these characteristics. However, because a random number generator is used to run each live Monte Carlo simulation, your image will differ slightly from this exact image:\n",
    "\n",
    "![A screenshot depicts the histogram plot.](Images/5-4-monte-carlo-histogram.png)\n",
    "\n",
    "4. Generate the summary statistics for the Monte Carlo simulation.\n",
    "\n"
   ]
  },
  {
   "cell_type": "markdown",
   "metadata": {},
   "source": [
    "#### Step 1: Make an API call via the Alpaca SDK to get 3 years of historical closing prices for a traditional 60/40 portfolio split: 60% stocks (SPY) and 40% bonds (AGG)."
   ]
  },
  {
   "cell_type": "code",
   "execution_count": 29,
   "metadata": {},
   "outputs": [
    {
     "name": "stdout",
     "output_type": "stream",
     "text": [
      "2021-11-21 12:08:30.250588\n",
      "2018-11-21 18:08:30.250588\n"
     ]
    }
   ],
   "source": [
    "# Set start and end dates of 3 years back from your current date\n",
    "# Alternatively, you can use an end date of 2020-08-07 and work 3 years back from that date \n",
    "Three_Year_End_Date = pd.to_datetime(\"today\") \n",
    "print(Three_Year_End_Date)\n",
    "\n",
    "Three_Year_Start_Date = Three_Year_End_Date - pd.Timedelta(days=1095.75)\n",
    "\n",
    "print(Three_Year_Start_Date)\n",
    "\n",
    "\n",
    "# YOUR CODE HERE\n",
    "\n",
    "# Set number of rows to 1000 to retrieve the maximum amount of rows\n",
    "limit_num = 1000"
   ]
  },
  {
   "cell_type": "code",
   "execution_count": 30,
   "metadata": {},
   "outputs": [
    {
     "data": {
      "text/html": [
       "<div>\n",
       "<style scoped>\n",
       "    .dataframe tbody tr th:only-of-type {\n",
       "        vertical-align: middle;\n",
       "    }\n",
       "\n",
       "    .dataframe tbody tr th {\n",
       "        vertical-align: top;\n",
       "    }\n",
       "\n",
       "    .dataframe thead tr th {\n",
       "        text-align: left;\n",
       "    }\n",
       "\n",
       "    .dataframe thead tr:last-of-type th {\n",
       "        text-align: right;\n",
       "    }\n",
       "</style>\n",
       "<table border=\"1\" class=\"dataframe\">\n",
       "  <thead>\n",
       "    <tr>\n",
       "      <th></th>\n",
       "      <th colspan=\"5\" halign=\"left\">AGG</th>\n",
       "      <th colspan=\"5\" halign=\"left\">SPY</th>\n",
       "    </tr>\n",
       "    <tr>\n",
       "      <th></th>\n",
       "      <th>open</th>\n",
       "      <th>high</th>\n",
       "      <th>low</th>\n",
       "      <th>close</th>\n",
       "      <th>volume</th>\n",
       "      <th>open</th>\n",
       "      <th>high</th>\n",
       "      <th>low</th>\n",
       "      <th>close</th>\n",
       "      <th>volume</th>\n",
       "    </tr>\n",
       "    <tr>\n",
       "      <th>time</th>\n",
       "      <th></th>\n",
       "      <th></th>\n",
       "      <th></th>\n",
       "      <th></th>\n",
       "      <th></th>\n",
       "      <th></th>\n",
       "      <th></th>\n",
       "      <th></th>\n",
       "      <th></th>\n",
       "      <th></th>\n",
       "    </tr>\n",
       "  </thead>\n",
       "  <tbody>\n",
       "    <tr>\n",
       "      <th>2017-11-30 00:00:00-05:00</th>\n",
       "      <td>109.25</td>\n",
       "      <td>109.30</td>\n",
       "      <td>109.020</td>\n",
       "      <td>109.080</td>\n",
       "      <td>2627063.0</td>\n",
       "      <td>NaN</td>\n",
       "      <td>NaN</td>\n",
       "      <td>NaN</td>\n",
       "      <td>NaN</td>\n",
       "      <td>NaN</td>\n",
       "    </tr>\n",
       "    <tr>\n",
       "      <th>2017-12-01 00:00:00-05:00</th>\n",
       "      <td>109.02</td>\n",
       "      <td>109.48</td>\n",
       "      <td>108.845</td>\n",
       "      <td>109.160</td>\n",
       "      <td>3039439.0</td>\n",
       "      <td>264.77</td>\n",
       "      <td>265.310</td>\n",
       "      <td>260.76</td>\n",
       "      <td>264.44</td>\n",
       "      <td>129633023.0</td>\n",
       "    </tr>\n",
       "    <tr>\n",
       "      <th>2017-12-04 00:00:00-05:00</th>\n",
       "      <td>109.03</td>\n",
       "      <td>109.17</td>\n",
       "      <td>109.000</td>\n",
       "      <td>109.160</td>\n",
       "      <td>2230286.0</td>\n",
       "      <td>266.31</td>\n",
       "      <td>266.800</td>\n",
       "      <td>264.12</td>\n",
       "      <td>264.13</td>\n",
       "      <td>65845643.0</td>\n",
       "    </tr>\n",
       "    <tr>\n",
       "      <th>2017-12-05 00:00:00-05:00</th>\n",
       "      <td>109.09</td>\n",
       "      <td>109.26</td>\n",
       "      <td>109.080</td>\n",
       "      <td>109.245</td>\n",
       "      <td>2710349.0</td>\n",
       "      <td>264.43</td>\n",
       "      <td>265.150</td>\n",
       "      <td>263.04</td>\n",
       "      <td>263.20</td>\n",
       "      <td>60173712.0</td>\n",
       "    </tr>\n",
       "    <tr>\n",
       "      <th>2017-12-06 00:00:00-05:00</th>\n",
       "      <td>109.42</td>\n",
       "      <td>109.52</td>\n",
       "      <td>109.370</td>\n",
       "      <td>109.370</td>\n",
       "      <td>2719857.0</td>\n",
       "      <td>262.87</td>\n",
       "      <td>263.730</td>\n",
       "      <td>262.71</td>\n",
       "      <td>263.21</td>\n",
       "      <td>40844621.0</td>\n",
       "    </tr>\n",
       "    <tr>\n",
       "      <th>...</th>\n",
       "      <td>...</td>\n",
       "      <td>...</td>\n",
       "      <td>...</td>\n",
       "      <td>...</td>\n",
       "      <td>...</td>\n",
       "      <td>...</td>\n",
       "      <td>...</td>\n",
       "      <td>...</td>\n",
       "      <td>...</td>\n",
       "      <td>...</td>\n",
       "    </tr>\n",
       "    <tr>\n",
       "      <th>2021-11-15 00:00:00-05:00</th>\n",
       "      <td>114.30</td>\n",
       "      <td>114.31</td>\n",
       "      <td>113.910</td>\n",
       "      <td>113.930</td>\n",
       "      <td>6219329.0</td>\n",
       "      <td>468.64</td>\n",
       "      <td>468.810</td>\n",
       "      <td>466.23</td>\n",
       "      <td>467.39</td>\n",
       "      <td>39813913.0</td>\n",
       "    </tr>\n",
       "    <tr>\n",
       "      <th>2021-11-16 00:00:00-05:00</th>\n",
       "      <td>113.92</td>\n",
       "      <td>114.11</td>\n",
       "      <td>113.840</td>\n",
       "      <td>113.870</td>\n",
       "      <td>5317284.0</td>\n",
       "      <td>467.16</td>\n",
       "      <td>470.485</td>\n",
       "      <td>467.07</td>\n",
       "      <td>469.24</td>\n",
       "      <td>41723421.0</td>\n",
       "    </tr>\n",
       "    <tr>\n",
       "      <th>2021-11-17 00:00:00-05:00</th>\n",
       "      <td>113.79</td>\n",
       "      <td>114.13</td>\n",
       "      <td>113.770</td>\n",
       "      <td>114.130</td>\n",
       "      <td>5513227.0</td>\n",
       "      <td>469.00</td>\n",
       "      <td>469.190</td>\n",
       "      <td>467.48</td>\n",
       "      <td>468.11</td>\n",
       "      <td>40088372.0</td>\n",
       "    </tr>\n",
       "    <tr>\n",
       "      <th>2021-11-18 00:00:00-05:00</th>\n",
       "      <td>114.05</td>\n",
       "      <td>114.28</td>\n",
       "      <td>114.030</td>\n",
       "      <td>114.230</td>\n",
       "      <td>4115721.0</td>\n",
       "      <td>469.24</td>\n",
       "      <td>470.010</td>\n",
       "      <td>466.34</td>\n",
       "      <td>469.71</td>\n",
       "      <td>45100029.0</td>\n",
       "    </tr>\n",
       "    <tr>\n",
       "      <th>2021-11-19 00:00:00-05:00</th>\n",
       "      <td>114.49</td>\n",
       "      <td>114.59</td>\n",
       "      <td>114.415</td>\n",
       "      <td>114.450</td>\n",
       "      <td>4843203.0</td>\n",
       "      <td>469.61</td>\n",
       "      <td>470.940</td>\n",
       "      <td>468.50</td>\n",
       "      <td>468.91</td>\n",
       "      <td>49009452.0</td>\n",
       "    </tr>\n",
       "  </tbody>\n",
       "</table>\n",
       "<p>1001 rows × 10 columns</p>\n",
       "</div>"
      ],
      "text/plain": [
       "                              AGG                                       \\\n",
       "                             open    high      low    close     volume   \n",
       "time                                                                     \n",
       "2017-11-30 00:00:00-05:00  109.25  109.30  109.020  109.080  2627063.0   \n",
       "2017-12-01 00:00:00-05:00  109.02  109.48  108.845  109.160  3039439.0   \n",
       "2017-12-04 00:00:00-05:00  109.03  109.17  109.000  109.160  2230286.0   \n",
       "2017-12-05 00:00:00-05:00  109.09  109.26  109.080  109.245  2710349.0   \n",
       "2017-12-06 00:00:00-05:00  109.42  109.52  109.370  109.370  2719857.0   \n",
       "...                           ...     ...      ...      ...        ...   \n",
       "2021-11-15 00:00:00-05:00  114.30  114.31  113.910  113.930  6219329.0   \n",
       "2021-11-16 00:00:00-05:00  113.92  114.11  113.840  113.870  5317284.0   \n",
       "2021-11-17 00:00:00-05:00  113.79  114.13  113.770  114.130  5513227.0   \n",
       "2021-11-18 00:00:00-05:00  114.05  114.28  114.030  114.230  4115721.0   \n",
       "2021-11-19 00:00:00-05:00  114.49  114.59  114.415  114.450  4843203.0   \n",
       "\n",
       "                              SPY                                        \n",
       "                             open     high     low   close       volume  \n",
       "time                                                                     \n",
       "2017-11-30 00:00:00-05:00     NaN      NaN     NaN     NaN          NaN  \n",
       "2017-12-01 00:00:00-05:00  264.77  265.310  260.76  264.44  129633023.0  \n",
       "2017-12-04 00:00:00-05:00  266.31  266.800  264.12  264.13   65845643.0  \n",
       "2017-12-05 00:00:00-05:00  264.43  265.150  263.04  263.20   60173712.0  \n",
       "2017-12-06 00:00:00-05:00  262.87  263.730  262.71  263.21   40844621.0  \n",
       "...                           ...      ...     ...     ...          ...  \n",
       "2021-11-15 00:00:00-05:00  468.64  468.810  466.23  467.39   39813913.0  \n",
       "2021-11-16 00:00:00-05:00  467.16  470.485  467.07  469.24   41723421.0  \n",
       "2021-11-17 00:00:00-05:00  469.00  469.190  467.48  468.11   40088372.0  \n",
       "2021-11-18 00:00:00-05:00  469.24  470.010  466.34  469.71   45100029.0  \n",
       "2021-11-19 00:00:00-05:00  469.61  470.940  468.50  468.91   49009452.0  \n",
       "\n",
       "[1001 rows x 10 columns]"
      ]
     },
     "execution_count": 30,
     "metadata": {},
     "output_type": "execute_result"
    }
   ],
   "source": [
    "# Use the Alpaca get_barset function to make the API call to get the 3 years worth of pricing data\n",
    "# The tickers and timeframe parameters should have been set in Part 1 of this activity \n",
    "# The start and end dates should be updated with the information set above\n",
    "# Remember to add the df property to the end of the call so the response is returned as a DataFrame\n",
    "ticker_parameters = alpaca.get_barset(tickers, TimeFrame, start= Three_Year_Start_Date, end= Three_Year_End_Date, limit= limit_num).df\n",
    "\n",
    "\n",
    "# Display both the first and last five rows of the DataFrame\n",
    "# YOUR CODE HERE\n",
    "ticker_parameters\n"
   ]
  },
  {
   "cell_type": "markdown",
   "metadata": {},
   "source": [
    "#### Step 2: Run a Monte Carlo simulation of 500 samples and 30 years for the 60/40 portfolio, and then plot the results."
   ]
  },
  {
   "cell_type": "code",
   "execution_count": 31,
   "metadata": {},
   "outputs": [
    {
     "data": {
      "text/html": [
       "<div>\n",
       "<style scoped>\n",
       "    .dataframe tbody tr th:only-of-type {\n",
       "        vertical-align: middle;\n",
       "    }\n",
       "\n",
       "    .dataframe tbody tr th {\n",
       "        vertical-align: top;\n",
       "    }\n",
       "\n",
       "    .dataframe thead tr th {\n",
       "        text-align: left;\n",
       "    }\n",
       "\n",
       "    .dataframe thead tr:last-of-type th {\n",
       "        text-align: right;\n",
       "    }\n",
       "</style>\n",
       "<table border=\"1\" class=\"dataframe\">\n",
       "  <thead>\n",
       "    <tr>\n",
       "      <th></th>\n",
       "      <th colspan=\"6\" halign=\"left\">AGG</th>\n",
       "      <th colspan=\"6\" halign=\"left\">SPY</th>\n",
       "    </tr>\n",
       "    <tr>\n",
       "      <th></th>\n",
       "      <th>open</th>\n",
       "      <th>high</th>\n",
       "      <th>low</th>\n",
       "      <th>close</th>\n",
       "      <th>volume</th>\n",
       "      <th>daily_return</th>\n",
       "      <th>open</th>\n",
       "      <th>high</th>\n",
       "      <th>low</th>\n",
       "      <th>close</th>\n",
       "      <th>volume</th>\n",
       "      <th>daily_return</th>\n",
       "    </tr>\n",
       "    <tr>\n",
       "      <th>time</th>\n",
       "      <th></th>\n",
       "      <th></th>\n",
       "      <th></th>\n",
       "      <th></th>\n",
       "      <th></th>\n",
       "      <th></th>\n",
       "      <th></th>\n",
       "      <th></th>\n",
       "      <th></th>\n",
       "      <th></th>\n",
       "      <th></th>\n",
       "      <th></th>\n",
       "    </tr>\n",
       "  </thead>\n",
       "  <tbody>\n",
       "    <tr>\n",
       "      <th>2017-11-30 00:00:00-05:00</th>\n",
       "      <td>109.25</td>\n",
       "      <td>109.30</td>\n",
       "      <td>109.020</td>\n",
       "      <td>109.080</td>\n",
       "      <td>2627063.0</td>\n",
       "      <td>NaN</td>\n",
       "      <td>NaN</td>\n",
       "      <td>NaN</td>\n",
       "      <td>NaN</td>\n",
       "      <td>NaN</td>\n",
       "      <td>NaN</td>\n",
       "      <td>NaN</td>\n",
       "    </tr>\n",
       "    <tr>\n",
       "      <th>2017-12-01 00:00:00-05:00</th>\n",
       "      <td>109.02</td>\n",
       "      <td>109.48</td>\n",
       "      <td>108.845</td>\n",
       "      <td>109.160</td>\n",
       "      <td>3039439.0</td>\n",
       "      <td>0.000733</td>\n",
       "      <td>264.77</td>\n",
       "      <td>265.31</td>\n",
       "      <td>260.76</td>\n",
       "      <td>264.44</td>\n",
       "      <td>129633023.0</td>\n",
       "      <td>NaN</td>\n",
       "    </tr>\n",
       "    <tr>\n",
       "      <th>2017-12-04 00:00:00-05:00</th>\n",
       "      <td>109.03</td>\n",
       "      <td>109.17</td>\n",
       "      <td>109.000</td>\n",
       "      <td>109.160</td>\n",
       "      <td>2230286.0</td>\n",
       "      <td>0.000000</td>\n",
       "      <td>266.31</td>\n",
       "      <td>266.80</td>\n",
       "      <td>264.12</td>\n",
       "      <td>264.13</td>\n",
       "      <td>65845643.0</td>\n",
       "      <td>-0.001172</td>\n",
       "    </tr>\n",
       "    <tr>\n",
       "      <th>2017-12-05 00:00:00-05:00</th>\n",
       "      <td>109.09</td>\n",
       "      <td>109.26</td>\n",
       "      <td>109.080</td>\n",
       "      <td>109.245</td>\n",
       "      <td>2710349.0</td>\n",
       "      <td>0.000779</td>\n",
       "      <td>264.43</td>\n",
       "      <td>265.15</td>\n",
       "      <td>263.04</td>\n",
       "      <td>263.20</td>\n",
       "      <td>60173712.0</td>\n",
       "      <td>-0.003521</td>\n",
       "    </tr>\n",
       "    <tr>\n",
       "      <th>2017-12-06 00:00:00-05:00</th>\n",
       "      <td>109.42</td>\n",
       "      <td>109.52</td>\n",
       "      <td>109.370</td>\n",
       "      <td>109.370</td>\n",
       "      <td>2719857.0</td>\n",
       "      <td>0.001144</td>\n",
       "      <td>262.87</td>\n",
       "      <td>263.73</td>\n",
       "      <td>262.71</td>\n",
       "      <td>263.21</td>\n",
       "      <td>40844621.0</td>\n",
       "      <td>0.000038</td>\n",
       "    </tr>\n",
       "  </tbody>\n",
       "</table>\n",
       "</div>"
      ],
      "text/plain": [
       "                              AGG                                       \\\n",
       "                             open    high      low    close     volume   \n",
       "time                                                                     \n",
       "2017-11-30 00:00:00-05:00  109.25  109.30  109.020  109.080  2627063.0   \n",
       "2017-12-01 00:00:00-05:00  109.02  109.48  108.845  109.160  3039439.0   \n",
       "2017-12-04 00:00:00-05:00  109.03  109.17  109.000  109.160  2230286.0   \n",
       "2017-12-05 00:00:00-05:00  109.09  109.26  109.080  109.245  2710349.0   \n",
       "2017-12-06 00:00:00-05:00  109.42  109.52  109.370  109.370  2719857.0   \n",
       "\n",
       "                                           SPY                          \\\n",
       "                          daily_return    open    high     low   close   \n",
       "time                                                                     \n",
       "2017-11-30 00:00:00-05:00          NaN     NaN     NaN     NaN     NaN   \n",
       "2017-12-01 00:00:00-05:00     0.000733  264.77  265.31  260.76  264.44   \n",
       "2017-12-04 00:00:00-05:00     0.000000  266.31  266.80  264.12  264.13   \n",
       "2017-12-05 00:00:00-05:00     0.000779  264.43  265.15  263.04  263.20   \n",
       "2017-12-06 00:00:00-05:00     0.001144  262.87  263.73  262.71  263.21   \n",
       "\n",
       "                                                     \n",
       "                                volume daily_return  \n",
       "time                                                 \n",
       "2017-11-30 00:00:00-05:00          NaN          NaN  \n",
       "2017-12-01 00:00:00-05:00  129633023.0          NaN  \n",
       "2017-12-04 00:00:00-05:00   65845643.0    -0.001172  \n",
       "2017-12-05 00:00:00-05:00   60173712.0    -0.003521  \n",
       "2017-12-06 00:00:00-05:00   40844621.0     0.000038  "
      ]
     },
     "execution_count": 31,
     "metadata": {},
     "output_type": "execute_result"
    }
   ],
   "source": [
    "# Configure the Monte Carlo simulation to forecast 30 years cumulative returns\n",
    "# The weights should be split 40% to AGG and 60% to SPY.\n",
    "# Run 500 samples.\n",
    "\n",
    "MC_Thirty_Year = MCSimulation(\n",
    "    portfolio_data= ticker_parameters,\n",
    "    weights= [.60, .40],\n",
    "    num_simulation= 500,\n",
    "    num_trading_days= 252*30\n",
    ")\n",
    "\n",
    "\n",
    "\n",
    "# Review the simulation input data\n",
    "MC_Thirty_Year.portfolio_data.head()"
   ]
  },
  {
   "cell_type": "code",
   "execution_count": 32,
   "metadata": {},
   "outputs": [
    {
     "name": "stdout",
     "output_type": "stream",
     "text": [
      "Running Monte Carlo simulation number 0.\n",
      "Running Monte Carlo simulation number 10.\n",
      "Running Monte Carlo simulation number 20.\n",
      "Running Monte Carlo simulation number 30.\n",
      "Running Monte Carlo simulation number 40.\n",
      "Running Monte Carlo simulation number 50.\n",
      "Running Monte Carlo simulation number 60.\n",
      "Running Monte Carlo simulation number 70.\n",
      "Running Monte Carlo simulation number 80.\n",
      "Running Monte Carlo simulation number 90.\n",
      "Running Monte Carlo simulation number 100.\n",
      "Running Monte Carlo simulation number 110.\n",
      "Running Monte Carlo simulation number 120.\n",
      "Running Monte Carlo simulation number 130.\n",
      "Running Monte Carlo simulation number 140.\n",
      "Running Monte Carlo simulation number 150.\n",
      "Running Monte Carlo simulation number 160.\n",
      "Running Monte Carlo simulation number 170.\n",
      "Running Monte Carlo simulation number 180.\n",
      "Running Monte Carlo simulation number 190.\n",
      "Running Monte Carlo simulation number 200.\n",
      "Running Monte Carlo simulation number 210.\n",
      "Running Monte Carlo simulation number 220.\n",
      "Running Monte Carlo simulation number 230.\n",
      "Running Monte Carlo simulation number 240.\n",
      "Running Monte Carlo simulation number 250.\n",
      "Running Monte Carlo simulation number 260.\n",
      "Running Monte Carlo simulation number 270.\n",
      "Running Monte Carlo simulation number 280.\n",
      "Running Monte Carlo simulation number 290.\n",
      "Running Monte Carlo simulation number 300.\n",
      "Running Monte Carlo simulation number 310.\n",
      "Running Monte Carlo simulation number 320.\n",
      "Running Monte Carlo simulation number 330.\n",
      "Running Monte Carlo simulation number 340.\n",
      "Running Monte Carlo simulation number 350.\n",
      "Running Monte Carlo simulation number 360.\n",
      "Running Monte Carlo simulation number 370.\n",
      "Running Monte Carlo simulation number 380.\n",
      "Running Monte Carlo simulation number 390.\n",
      "Running Monte Carlo simulation number 400.\n",
      "Running Monte Carlo simulation number 410.\n",
      "Running Monte Carlo simulation number 420.\n",
      "Running Monte Carlo simulation number 430.\n",
      "Running Monte Carlo simulation number 440.\n",
      "Running Monte Carlo simulation number 450.\n",
      "Running Monte Carlo simulation number 460.\n",
      "Running Monte Carlo simulation number 470.\n",
      "Running Monte Carlo simulation number 480.\n",
      "Running Monte Carlo simulation number 490.\n"
     ]
    },
    {
     "data": {
      "text/html": [
       "<div>\n",
       "<style scoped>\n",
       "    .dataframe tbody tr th:only-of-type {\n",
       "        vertical-align: middle;\n",
       "    }\n",
       "\n",
       "    .dataframe tbody tr th {\n",
       "        vertical-align: top;\n",
       "    }\n",
       "\n",
       "    .dataframe thead th {\n",
       "        text-align: right;\n",
       "    }\n",
       "</style>\n",
       "<table border=\"1\" class=\"dataframe\">\n",
       "  <thead>\n",
       "    <tr style=\"text-align: right;\">\n",
       "      <th></th>\n",
       "      <th>0</th>\n",
       "      <th>1</th>\n",
       "      <th>2</th>\n",
       "      <th>3</th>\n",
       "      <th>4</th>\n",
       "      <th>5</th>\n",
       "      <th>6</th>\n",
       "      <th>7</th>\n",
       "      <th>8</th>\n",
       "      <th>9</th>\n",
       "      <th>...</th>\n",
       "      <th>490</th>\n",
       "      <th>491</th>\n",
       "      <th>492</th>\n",
       "      <th>493</th>\n",
       "      <th>494</th>\n",
       "      <th>495</th>\n",
       "      <th>496</th>\n",
       "      <th>497</th>\n",
       "      <th>498</th>\n",
       "      <th>499</th>\n",
       "    </tr>\n",
       "  </thead>\n",
       "  <tbody>\n",
       "    <tr>\n",
       "      <th>0</th>\n",
       "      <td>1.000000</td>\n",
       "      <td>1.000000</td>\n",
       "      <td>1.000000</td>\n",
       "      <td>1.000000</td>\n",
       "      <td>1.000000</td>\n",
       "      <td>1.000000</td>\n",
       "      <td>1.000000</td>\n",
       "      <td>1.000000</td>\n",
       "      <td>1.000000</td>\n",
       "      <td>1.000000</td>\n",
       "      <td>...</td>\n",
       "      <td>1.000000</td>\n",
       "      <td>1.000000</td>\n",
       "      <td>1.000000</td>\n",
       "      <td>1.000000</td>\n",
       "      <td>1.000000</td>\n",
       "      <td>1.000000</td>\n",
       "      <td>1.000000</td>\n",
       "      <td>1.000000</td>\n",
       "      <td>1.000000</td>\n",
       "      <td>1.000000</td>\n",
       "    </tr>\n",
       "    <tr>\n",
       "      <th>1</th>\n",
       "      <td>1.006393</td>\n",
       "      <td>1.002828</td>\n",
       "      <td>1.000974</td>\n",
       "      <td>0.988455</td>\n",
       "      <td>1.008756</td>\n",
       "      <td>0.994902</td>\n",
       "      <td>1.001434</td>\n",
       "      <td>1.007119</td>\n",
       "      <td>0.994317</td>\n",
       "      <td>1.003324</td>\n",
       "      <td>...</td>\n",
       "      <td>0.990273</td>\n",
       "      <td>0.997692</td>\n",
       "      <td>1.003911</td>\n",
       "      <td>1.003741</td>\n",
       "      <td>0.986377</td>\n",
       "      <td>0.998308</td>\n",
       "      <td>1.002766</td>\n",
       "      <td>1.002839</td>\n",
       "      <td>0.989421</td>\n",
       "      <td>0.996481</td>\n",
       "    </tr>\n",
       "    <tr>\n",
       "      <th>2</th>\n",
       "      <td>1.005341</td>\n",
       "      <td>1.003787</td>\n",
       "      <td>1.013996</td>\n",
       "      <td>0.989439</td>\n",
       "      <td>1.001917</td>\n",
       "      <td>0.995699</td>\n",
       "      <td>1.002977</td>\n",
       "      <td>1.006256</td>\n",
       "      <td>0.993652</td>\n",
       "      <td>1.000426</td>\n",
       "      <td>...</td>\n",
       "      <td>0.997984</td>\n",
       "      <td>0.998029</td>\n",
       "      <td>1.010720</td>\n",
       "      <td>1.004573</td>\n",
       "      <td>0.977616</td>\n",
       "      <td>1.002799</td>\n",
       "      <td>0.989867</td>\n",
       "      <td>0.995783</td>\n",
       "      <td>0.996680</td>\n",
       "      <td>0.993028</td>\n",
       "    </tr>\n",
       "    <tr>\n",
       "      <th>3</th>\n",
       "      <td>1.007479</td>\n",
       "      <td>1.000631</td>\n",
       "      <td>1.018413</td>\n",
       "      <td>0.988299</td>\n",
       "      <td>0.999132</td>\n",
       "      <td>1.002174</td>\n",
       "      <td>1.005414</td>\n",
       "      <td>1.007348</td>\n",
       "      <td>0.997196</td>\n",
       "      <td>1.008336</td>\n",
       "      <td>...</td>\n",
       "      <td>1.000317</td>\n",
       "      <td>0.996780</td>\n",
       "      <td>1.025542</td>\n",
       "      <td>1.013155</td>\n",
       "      <td>0.970446</td>\n",
       "      <td>1.010047</td>\n",
       "      <td>0.989643</td>\n",
       "      <td>0.990779</td>\n",
       "      <td>1.001629</td>\n",
       "      <td>0.978430</td>\n",
       "    </tr>\n",
       "    <tr>\n",
       "      <th>4</th>\n",
       "      <td>1.006020</td>\n",
       "      <td>0.991506</td>\n",
       "      <td>1.026753</td>\n",
       "      <td>0.982984</td>\n",
       "      <td>0.997238</td>\n",
       "      <td>0.992732</td>\n",
       "      <td>1.008829</td>\n",
       "      <td>1.011739</td>\n",
       "      <td>0.998001</td>\n",
       "      <td>1.002398</td>\n",
       "      <td>...</td>\n",
       "      <td>0.996393</td>\n",
       "      <td>0.997976</td>\n",
       "      <td>1.028819</td>\n",
       "      <td>1.013806</td>\n",
       "      <td>0.961084</td>\n",
       "      <td>0.998591</td>\n",
       "      <td>0.986569</td>\n",
       "      <td>0.986979</td>\n",
       "      <td>1.001753</td>\n",
       "      <td>0.984074</td>\n",
       "    </tr>\n",
       "    <tr>\n",
       "      <th>...</th>\n",
       "      <td>...</td>\n",
       "      <td>...</td>\n",
       "      <td>...</td>\n",
       "      <td>...</td>\n",
       "      <td>...</td>\n",
       "      <td>...</td>\n",
       "      <td>...</td>\n",
       "      <td>...</td>\n",
       "      <td>...</td>\n",
       "      <td>...</td>\n",
       "      <td>...</td>\n",
       "      <td>...</td>\n",
       "      <td>...</td>\n",
       "      <td>...</td>\n",
       "      <td>...</td>\n",
       "      <td>...</td>\n",
       "      <td>...</td>\n",
       "      <td>...</td>\n",
       "      <td>...</td>\n",
       "      <td>...</td>\n",
       "      <td>...</td>\n",
       "    </tr>\n",
       "    <tr>\n",
       "      <th>7556</th>\n",
       "      <td>4.958781</td>\n",
       "      <td>6.068510</td>\n",
       "      <td>7.952455</td>\n",
       "      <td>9.729356</td>\n",
       "      <td>8.464691</td>\n",
       "      <td>9.385641</td>\n",
       "      <td>9.814784</td>\n",
       "      <td>12.290131</td>\n",
       "      <td>12.380199</td>\n",
       "      <td>4.482258</td>\n",
       "      <td>...</td>\n",
       "      <td>21.171817</td>\n",
       "      <td>13.867802</td>\n",
       "      <td>9.562670</td>\n",
       "      <td>23.518035</td>\n",
       "      <td>4.613631</td>\n",
       "      <td>9.533598</td>\n",
       "      <td>4.391669</td>\n",
       "      <td>10.676701</td>\n",
       "      <td>8.433289</td>\n",
       "      <td>10.472549</td>\n",
       "    </tr>\n",
       "    <tr>\n",
       "      <th>7557</th>\n",
       "      <td>4.981040</td>\n",
       "      <td>6.106111</td>\n",
       "      <td>7.951059</td>\n",
       "      <td>9.695741</td>\n",
       "      <td>8.533306</td>\n",
       "      <td>9.450730</td>\n",
       "      <td>9.745974</td>\n",
       "      <td>12.294425</td>\n",
       "      <td>12.352641</td>\n",
       "      <td>4.487942</td>\n",
       "      <td>...</td>\n",
       "      <td>21.261535</td>\n",
       "      <td>13.863467</td>\n",
       "      <td>9.621305</td>\n",
       "      <td>23.497788</td>\n",
       "      <td>4.615762</td>\n",
       "      <td>9.628627</td>\n",
       "      <td>4.412033</td>\n",
       "      <td>10.654703</td>\n",
       "      <td>8.426466</td>\n",
       "      <td>10.454238</td>\n",
       "    </tr>\n",
       "    <tr>\n",
       "      <th>7558</th>\n",
       "      <td>4.958886</td>\n",
       "      <td>6.109303</td>\n",
       "      <td>7.896814</td>\n",
       "      <td>9.666291</td>\n",
       "      <td>8.531779</td>\n",
       "      <td>9.501294</td>\n",
       "      <td>9.672474</td>\n",
       "      <td>12.349697</td>\n",
       "      <td>12.330723</td>\n",
       "      <td>4.482372</td>\n",
       "      <td>...</td>\n",
       "      <td>21.197890</td>\n",
       "      <td>13.839745</td>\n",
       "      <td>9.553312</td>\n",
       "      <td>23.738521</td>\n",
       "      <td>4.634852</td>\n",
       "      <td>9.681237</td>\n",
       "      <td>4.408064</td>\n",
       "      <td>10.662809</td>\n",
       "      <td>8.445781</td>\n",
       "      <td>10.381268</td>\n",
       "    </tr>\n",
       "    <tr>\n",
       "      <th>7559</th>\n",
       "      <td>5.000371</td>\n",
       "      <td>6.116216</td>\n",
       "      <td>7.892508</td>\n",
       "      <td>9.635605</td>\n",
       "      <td>8.403270</td>\n",
       "      <td>9.545218</td>\n",
       "      <td>9.658258</td>\n",
       "      <td>12.413653</td>\n",
       "      <td>12.308669</td>\n",
       "      <td>4.502458</td>\n",
       "      <td>...</td>\n",
       "      <td>20.995613</td>\n",
       "      <td>13.641528</td>\n",
       "      <td>9.510464</td>\n",
       "      <td>23.832276</td>\n",
       "      <td>4.622743</td>\n",
       "      <td>9.638606</td>\n",
       "      <td>4.449875</td>\n",
       "      <td>10.611610</td>\n",
       "      <td>8.443661</td>\n",
       "      <td>10.425216</td>\n",
       "    </tr>\n",
       "    <tr>\n",
       "      <th>7560</th>\n",
       "      <td>5.012180</td>\n",
       "      <td>6.131857</td>\n",
       "      <td>7.816856</td>\n",
       "      <td>9.701970</td>\n",
       "      <td>8.479981</td>\n",
       "      <td>9.515808</td>\n",
       "      <td>9.703455</td>\n",
       "      <td>12.320096</td>\n",
       "      <td>12.413959</td>\n",
       "      <td>4.543018</td>\n",
       "      <td>...</td>\n",
       "      <td>21.204491</td>\n",
       "      <td>13.707337</td>\n",
       "      <td>9.557533</td>\n",
       "      <td>24.053468</td>\n",
       "      <td>4.584960</td>\n",
       "      <td>9.672743</td>\n",
       "      <td>4.480300</td>\n",
       "      <td>10.593749</td>\n",
       "      <td>8.511018</td>\n",
       "      <td>10.437215</td>\n",
       "    </tr>\n",
       "  </tbody>\n",
       "</table>\n",
       "<p>7561 rows × 500 columns</p>\n",
       "</div>"
      ],
      "text/plain": [
       "           0         1         2         3         4         5         6    \\\n",
       "0     1.000000  1.000000  1.000000  1.000000  1.000000  1.000000  1.000000   \n",
       "1     1.006393  1.002828  1.000974  0.988455  1.008756  0.994902  1.001434   \n",
       "2     1.005341  1.003787  1.013996  0.989439  1.001917  0.995699  1.002977   \n",
       "3     1.007479  1.000631  1.018413  0.988299  0.999132  1.002174  1.005414   \n",
       "4     1.006020  0.991506  1.026753  0.982984  0.997238  0.992732  1.008829   \n",
       "...        ...       ...       ...       ...       ...       ...       ...   \n",
       "7556  4.958781  6.068510  7.952455  9.729356  8.464691  9.385641  9.814784   \n",
       "7557  4.981040  6.106111  7.951059  9.695741  8.533306  9.450730  9.745974   \n",
       "7558  4.958886  6.109303  7.896814  9.666291  8.531779  9.501294  9.672474   \n",
       "7559  5.000371  6.116216  7.892508  9.635605  8.403270  9.545218  9.658258   \n",
       "7560  5.012180  6.131857  7.816856  9.701970  8.479981  9.515808  9.703455   \n",
       "\n",
       "            7          8         9    ...        490        491       492  \\\n",
       "0      1.000000   1.000000  1.000000  ...   1.000000   1.000000  1.000000   \n",
       "1      1.007119   0.994317  1.003324  ...   0.990273   0.997692  1.003911   \n",
       "2      1.006256   0.993652  1.000426  ...   0.997984   0.998029  1.010720   \n",
       "3      1.007348   0.997196  1.008336  ...   1.000317   0.996780  1.025542   \n",
       "4      1.011739   0.998001  1.002398  ...   0.996393   0.997976  1.028819   \n",
       "...         ...        ...       ...  ...        ...        ...       ...   \n",
       "7556  12.290131  12.380199  4.482258  ...  21.171817  13.867802  9.562670   \n",
       "7557  12.294425  12.352641  4.487942  ...  21.261535  13.863467  9.621305   \n",
       "7558  12.349697  12.330723  4.482372  ...  21.197890  13.839745  9.553312   \n",
       "7559  12.413653  12.308669  4.502458  ...  20.995613  13.641528  9.510464   \n",
       "7560  12.320096  12.413959  4.543018  ...  21.204491  13.707337  9.557533   \n",
       "\n",
       "            493       494       495       496        497       498        499  \n",
       "0      1.000000  1.000000  1.000000  1.000000   1.000000  1.000000   1.000000  \n",
       "1      1.003741  0.986377  0.998308  1.002766   1.002839  0.989421   0.996481  \n",
       "2      1.004573  0.977616  1.002799  0.989867   0.995783  0.996680   0.993028  \n",
       "3      1.013155  0.970446  1.010047  0.989643   0.990779  1.001629   0.978430  \n",
       "4      1.013806  0.961084  0.998591  0.986569   0.986979  1.001753   0.984074  \n",
       "...         ...       ...       ...       ...        ...       ...        ...  \n",
       "7556  23.518035  4.613631  9.533598  4.391669  10.676701  8.433289  10.472549  \n",
       "7557  23.497788  4.615762  9.628627  4.412033  10.654703  8.426466  10.454238  \n",
       "7558  23.738521  4.634852  9.681237  4.408064  10.662809  8.445781  10.381268  \n",
       "7559  23.832276  4.622743  9.638606  4.449875  10.611610  8.443661  10.425216  \n",
       "7560  24.053468  4.584960  9.672743  4.480300  10.593749  8.511018  10.437215  \n",
       "\n",
       "[7561 rows x 500 columns]"
      ]
     },
     "execution_count": 32,
     "metadata": {},
     "output_type": "execute_result"
    }
   ],
   "source": [
    "# Run the Monte Carlo simulation to forecast 30 years cumulative returns\n",
    "MC_Thirty_Year.calc_cumulative_return()\n"
   ]
  },
  {
   "cell_type": "code",
   "execution_count": 33,
   "metadata": {},
   "outputs": [
    {
     "data": {
      "text/plain": [
       "<AxesSubplot:title={'center':'500 Simulations of Cumulative Portfolio Return Trajectories Over the Next 7560 Trading Days.'}>"
      ]
     },
     "execution_count": 33,
     "metadata": {},
     "output_type": "execute_result"
    },
    {
     "data": {
      "image/png": "[encoded data removed]",
      "text/plain": [
       "<Figure size 432x288 with 1 Axes>"
      ]
     },
     "metadata": {
      "needs_background": "light"
     },
     "output_type": "display_data"
    }
   ],
   "source": [
    "# Visualize the 30-year Monte Carlo simulation by creating an\n",
    "# overlay line plot\n",
    "line_plot_simulation = MC_Thirty_Year.plot_simulation()\n",
    "line_plot_simulation\n"
   ]
  },
  {
   "cell_type": "markdown",
   "metadata": {},
   "source": [
    "#### Step 3: Plot the probability distribution of the Monte Carlo simulation."
   ]
  },
  {
   "cell_type": "code",
   "execution_count": 34,
   "metadata": {},
   "outputs": [
    {
     "data": {
      "text/plain": [
       "<AxesSubplot:title={'center':'Distribution of Final Cumuluative Returns Across All 500 Simulations'}, ylabel='Frequency'>"
      ]
     },
     "execution_count": 34,
     "metadata": {},
     "output_type": "execute_result"
    },
    {
     "data": {
      "image/png": "[encoded data removed]",
      "text/plain": [
       "<Figure size 432x288 with 1 Axes>"
      ]
     },
     "metadata": {
      "needs_background": "light"
     },
     "output_type": "display_data"
    }
   ],
   "source": [
    "# Visualize the probability distribution of the 30-year Monte Carlo simulation \n",
    "# by plotting a histogram\n",
    "histogram_plot_simulation = MC_Thirty_Year.plot_distribution()\n",
    "histogram_plot_simulation\n"
   ]
  },
  {
   "cell_type": "markdown",
   "metadata": {},
   "source": [
    "#### Step 4: Generate the summary statistics for the Monte Carlo simulation."
   ]
  },
  {
   "cell_type": "code",
   "execution_count": 35,
   "metadata": {},
   "outputs": [
    {
     "data": {
      "text/plain": [
       "count           500.000000\n",
       "mean              8.883655\n",
       "std               4.440317\n",
       "min               1.901226\n",
       "25%               5.691610\n",
       "50%               8.068785\n",
       "75%              11.287003\n",
       "max              29.973575\n",
       "95% CI Lower      2.913561\n",
       "95% CI Upper     18.960595\n",
       "Name: 7560, dtype: float64"
      ]
     },
     "execution_count": 35,
     "metadata": {},
     "output_type": "execute_result"
    }
   ],
   "source": [
    "# Generate summary statistics from the 30-year Monte Carlo simulation results\n",
    "# Save the results as a variable\n",
    "\n",
    "MC_Summary_Statistics = MC_Thirty_Year.summarize_cumulative_return()\n",
    "\n",
    "# Review the 30-year Monte Carlo summary statistics\n",
    "MC_Summary_Statistics"
   ]
  },
  {
   "cell_type": "markdown",
   "metadata": {},
   "source": [
    "### Analyze the Retirement Portfolio Forecasts\n",
    "\n",
    "Using the current value of only the stock and bond portion of the member's portfolio and the summary statistics that you generated from the Monte Carlo simulation, answer the following question in your Jupyter notebook:\n",
    "\n",
    "-  What are the lower and upper bounds for the expected value of the portfolio with a 95% confidence interval?\n"
   ]
  },
  {
   "cell_type": "code",
   "execution_count": 36,
   "metadata": {},
   "outputs": [
    {
     "name": "stdout",
     "output_type": "stream",
     "text": [
      "AGG: $ 23889.0 SPY: $ 36800.5\n"
     ]
    }
   ],
   "source": [
    "# Print the current balance of the stock and bond portion of the members portfolio\n",
    "print(\"AGG: $\", agg_value, \"SPY: $\", spy_value)\n"
   ]
  },
  {
   "cell_type": "code",
   "execution_count": 37,
   "metadata": {},
   "outputs": [
    {
     "name": "stdout",
     "output_type": "stream",
     "text": [
      "There is a 95% chance that an initial investment of $60689.5 in the porfolio over the next 30 years will end within the range of $ 176822.57 and  1150709.04\n"
     ]
    }
   ],
   "source": [
    "# Use the lower and upper `95%` confidence intervals to calculate the range of the possible outcomes for the current stock/bond portfolio\n",
    "ci_lower_thirty_cumulative_return = round(MC_Summary_Statistics[\"95% CI Lower\"] * total_stocks_bonds,2)\n",
    "ci_upper_thirty_cumulative_return = round(MC_Summary_Statistics[\"95% CI Upper\"] * total_stocks_bonds,2)\n",
    "\n",
    "# Print the result of your calculations\n",
    "print(f\"There is a 95% chance that an initial investment of ${total_stocks_bonds} in the porfolio\"\n",
    "    f\" over the next 30 years will end within the range of\"\n",
    "    f\" ${ci_lower_thirty_cumulative_return: .2f} and {ci_upper_thirty_cumulative_return: .2f}\"\n",
    ")\n"
   ]
  },
  {
   "cell_type": "markdown",
   "metadata": {},
   "source": [
    "### Forecast Cumulative Returns in 10 Years\n",
    "\n",
    "The CTO of the credit union is impressed with your work on these planning tools but wonders if 30 years is a long time to wait until retirement. So, your next task is to adjust the retirement portfolio and run a new Monte Carlo simulation to find out if the changes will allow members to retire earlier.\n",
    "\n",
    "For this new Monte Carlo simulation, do the following: \n",
    "\n",
    "- Forecast the cumulative returns for 10 years from now. Because of the shortened investment horizon (30 years to 10 years), the portfolio needs to invest more heavily in the riskier asset&mdash;that is, stock&mdash;to help accumulate wealth for retirement. \n",
    "\n",
    "- Adjust the weights of the retirement portfolio so that the composition for the Monte Carlo simulation consists of 20% bonds and 80% stocks. \n",
    "\n",
    "- Run the simulation over 500 samples, and use the same data that the API call to Alpaca generated.\n",
    "\n",
    "- Based on the new Monte Carlo simulation, answer the following questions in your Jupyter notebook:\n",
    "\n",
    "    - Using the current value of only the stock and bond portion of the member's portfolio and the summary statistics that you generated from the new Monte Carlo simulation, what are the lower and upper bounds for the expected value of the portfolio (with the new weights) with a 95% confidence interval?\n",
    "\n",
    "    - Will weighting the portfolio more heavily toward stocks allow the credit union members to retire after only 10 years?\n"
   ]
  },
  {
   "cell_type": "code",
   "execution_count": 38,
   "metadata": {},
   "outputs": [
    {
     "data": {
      "text/html": [
       "<div>\n",
       "<style scoped>\n",
       "    .dataframe tbody tr th:only-of-type {\n",
       "        vertical-align: middle;\n",
       "    }\n",
       "\n",
       "    .dataframe tbody tr th {\n",
       "        vertical-align: top;\n",
       "    }\n",
       "\n",
       "    .dataframe thead tr th {\n",
       "        text-align: left;\n",
       "    }\n",
       "\n",
       "    .dataframe thead tr:last-of-type th {\n",
       "        text-align: right;\n",
       "    }\n",
       "</style>\n",
       "<table border=\"1\" class=\"dataframe\">\n",
       "  <thead>\n",
       "    <tr>\n",
       "      <th></th>\n",
       "      <th colspan=\"6\" halign=\"left\">AGG</th>\n",
       "      <th colspan=\"6\" halign=\"left\">SPY</th>\n",
       "    </tr>\n",
       "    <tr>\n",
       "      <th></th>\n",
       "      <th>open</th>\n",
       "      <th>high</th>\n",
       "      <th>low</th>\n",
       "      <th>close</th>\n",
       "      <th>volume</th>\n",
       "      <th>daily_return</th>\n",
       "      <th>open</th>\n",
       "      <th>high</th>\n",
       "      <th>low</th>\n",
       "      <th>close</th>\n",
       "      <th>volume</th>\n",
       "      <th>daily_return</th>\n",
       "    </tr>\n",
       "    <tr>\n",
       "      <th>time</th>\n",
       "      <th></th>\n",
       "      <th></th>\n",
       "      <th></th>\n",
       "      <th></th>\n",
       "      <th></th>\n",
       "      <th></th>\n",
       "      <th></th>\n",
       "      <th></th>\n",
       "      <th></th>\n",
       "      <th></th>\n",
       "      <th></th>\n",
       "      <th></th>\n",
       "    </tr>\n",
       "  </thead>\n",
       "  <tbody>\n",
       "    <tr>\n",
       "      <th>2017-11-30 00:00:00-05:00</th>\n",
       "      <td>109.25</td>\n",
       "      <td>109.30</td>\n",
       "      <td>109.020</td>\n",
       "      <td>109.080</td>\n",
       "      <td>2627063.0</td>\n",
       "      <td>NaN</td>\n",
       "      <td>NaN</td>\n",
       "      <td>NaN</td>\n",
       "      <td>NaN</td>\n",
       "      <td>NaN</td>\n",
       "      <td>NaN</td>\n",
       "      <td>NaN</td>\n",
       "    </tr>\n",
       "    <tr>\n",
       "      <th>2017-12-01 00:00:00-05:00</th>\n",
       "      <td>109.02</td>\n",
       "      <td>109.48</td>\n",
       "      <td>108.845</td>\n",
       "      <td>109.160</td>\n",
       "      <td>3039439.0</td>\n",
       "      <td>0.000733</td>\n",
       "      <td>264.77</td>\n",
       "      <td>265.31</td>\n",
       "      <td>260.76</td>\n",
       "      <td>264.44</td>\n",
       "      <td>129633023.0</td>\n",
       "      <td>NaN</td>\n",
       "    </tr>\n",
       "    <tr>\n",
       "      <th>2017-12-04 00:00:00-05:00</th>\n",
       "      <td>109.03</td>\n",
       "      <td>109.17</td>\n",
       "      <td>109.000</td>\n",
       "      <td>109.160</td>\n",
       "      <td>2230286.0</td>\n",
       "      <td>0.000000</td>\n",
       "      <td>266.31</td>\n",
       "      <td>266.80</td>\n",
       "      <td>264.12</td>\n",
       "      <td>264.13</td>\n",
       "      <td>65845643.0</td>\n",
       "      <td>-0.001172</td>\n",
       "    </tr>\n",
       "    <tr>\n",
       "      <th>2017-12-05 00:00:00-05:00</th>\n",
       "      <td>109.09</td>\n",
       "      <td>109.26</td>\n",
       "      <td>109.080</td>\n",
       "      <td>109.245</td>\n",
       "      <td>2710349.0</td>\n",
       "      <td>0.000779</td>\n",
       "      <td>264.43</td>\n",
       "      <td>265.15</td>\n",
       "      <td>263.04</td>\n",
       "      <td>263.20</td>\n",
       "      <td>60173712.0</td>\n",
       "      <td>-0.003521</td>\n",
       "    </tr>\n",
       "    <tr>\n",
       "      <th>2017-12-06 00:00:00-05:00</th>\n",
       "      <td>109.42</td>\n",
       "      <td>109.52</td>\n",
       "      <td>109.370</td>\n",
       "      <td>109.370</td>\n",
       "      <td>2719857.0</td>\n",
       "      <td>0.001144</td>\n",
       "      <td>262.87</td>\n",
       "      <td>263.73</td>\n",
       "      <td>262.71</td>\n",
       "      <td>263.21</td>\n",
       "      <td>40844621.0</td>\n",
       "      <td>0.000038</td>\n",
       "    </tr>\n",
       "  </tbody>\n",
       "</table>\n",
       "</div>"
      ],
      "text/plain": [
       "                              AGG                                       \\\n",
       "                             open    high      low    close     volume   \n",
       "time                                                                     \n",
       "2017-11-30 00:00:00-05:00  109.25  109.30  109.020  109.080  2627063.0   \n",
       "2017-12-01 00:00:00-05:00  109.02  109.48  108.845  109.160  3039439.0   \n",
       "2017-12-04 00:00:00-05:00  109.03  109.17  109.000  109.160  2230286.0   \n",
       "2017-12-05 00:00:00-05:00  109.09  109.26  109.080  109.245  2710349.0   \n",
       "2017-12-06 00:00:00-05:00  109.42  109.52  109.370  109.370  2719857.0   \n",
       "\n",
       "                                           SPY                          \\\n",
       "                          daily_return    open    high     low   close   \n",
       "time                                                                     \n",
       "2017-11-30 00:00:00-05:00          NaN     NaN     NaN     NaN     NaN   \n",
       "2017-12-01 00:00:00-05:00     0.000733  264.77  265.31  260.76  264.44   \n",
       "2017-12-04 00:00:00-05:00     0.000000  266.31  266.80  264.12  264.13   \n",
       "2017-12-05 00:00:00-05:00     0.000779  264.43  265.15  263.04  263.20   \n",
       "2017-12-06 00:00:00-05:00     0.001144  262.87  263.73  262.71  263.21   \n",
       "\n",
       "                                                     \n",
       "                                volume daily_return  \n",
       "time                                                 \n",
       "2017-11-30 00:00:00-05:00          NaN          NaN  \n",
       "2017-12-01 00:00:00-05:00  129633023.0          NaN  \n",
       "2017-12-04 00:00:00-05:00   65845643.0    -0.001172  \n",
       "2017-12-05 00:00:00-05:00   60173712.0    -0.003521  \n",
       "2017-12-06 00:00:00-05:00   40844621.0     0.000038  "
      ]
     },
     "execution_count": 38,
     "metadata": {},
     "output_type": "execute_result"
    }
   ],
   "source": [
    "# Configure a Monte Carlo simulation to forecast 10 years cumulative returns\n",
    "# The weights should be split 20% to AGG and 80% to SPY.\n",
    "# Run 500 samples.\n",
    "MC_Ten_Year = MCSimulation(portfolio_data= ticker_parameters,\n",
    "    weights= [.80, .20],\n",
    "    num_simulation= 500,\n",
    "    num_trading_days=252*10\n",
    ")\n",
    "\n",
    "# Review the simulation input data\n",
    "MC_Ten_Year.portfolio_data.head()\n"
   ]
  },
  {
   "cell_type": "code",
   "execution_count": 39,
   "metadata": {},
   "outputs": [
    {
     "name": "stdout",
     "output_type": "stream",
     "text": [
      "Running Monte Carlo simulation number 0.\n",
      "Running Monte Carlo simulation number 10.\n",
      "Running Monte Carlo simulation number 20.\n",
      "Running Monte Carlo simulation number 30.\n",
      "Running Monte Carlo simulation number 40.\n",
      "Running Monte Carlo simulation number 50.\n",
      "Running Monte Carlo simulation number 60.\n",
      "Running Monte Carlo simulation number 70.\n",
      "Running Monte Carlo simulation number 80.\n",
      "Running Monte Carlo simulation number 90.\n",
      "Running Monte Carlo simulation number 100.\n",
      "Running Monte Carlo simulation number 110.\n",
      "Running Monte Carlo simulation number 120.\n",
      "Running Monte Carlo simulation number 130.\n",
      "Running Monte Carlo simulation number 140.\n",
      "Running Monte Carlo simulation number 150.\n",
      "Running Monte Carlo simulation number 160.\n",
      "Running Monte Carlo simulation number 170.\n",
      "Running Monte Carlo simulation number 180.\n",
      "Running Monte Carlo simulation number 190.\n",
      "Running Monte Carlo simulation number 200.\n",
      "Running Monte Carlo simulation number 210.\n",
      "Running Monte Carlo simulation number 220.\n",
      "Running Monte Carlo simulation number 230.\n",
      "Running Monte Carlo simulation number 240.\n",
      "Running Monte Carlo simulation number 250.\n",
      "Running Monte Carlo simulation number 260.\n",
      "Running Monte Carlo simulation number 270.\n",
      "Running Monte Carlo simulation number 280.\n",
      "Running Monte Carlo simulation number 290.\n",
      "Running Monte Carlo simulation number 300.\n",
      "Running Monte Carlo simulation number 310.\n",
      "Running Monte Carlo simulation number 320.\n",
      "Running Monte Carlo simulation number 330.\n",
      "Running Monte Carlo simulation number 340.\n",
      "Running Monte Carlo simulation number 350.\n",
      "Running Monte Carlo simulation number 360.\n",
      "Running Monte Carlo simulation number 370.\n",
      "Running Monte Carlo simulation number 380.\n",
      "Running Monte Carlo simulation number 390.\n",
      "Running Monte Carlo simulation number 400.\n",
      "Running Monte Carlo simulation number 410.\n",
      "Running Monte Carlo simulation number 420.\n",
      "Running Monte Carlo simulation number 430.\n",
      "Running Monte Carlo simulation number 440.\n",
      "Running Monte Carlo simulation number 450.\n",
      "Running Monte Carlo simulation number 460.\n",
      "Running Monte Carlo simulation number 470.\n",
      "Running Monte Carlo simulation number 480.\n",
      "Running Monte Carlo simulation number 490.\n"
     ]
    },
    {
     "data": {
      "text/html": [
       "<div>\n",
       "<style scoped>\n",
       "    .dataframe tbody tr th:only-of-type {\n",
       "        vertical-align: middle;\n",
       "    }\n",
       "\n",
       "    .dataframe tbody tr th {\n",
       "        vertical-align: top;\n",
       "    }\n",
       "\n",
       "    .dataframe thead th {\n",
       "        text-align: right;\n",
       "    }\n",
       "</style>\n",
       "<table border=\"1\" class=\"dataframe\">\n",
       "  <thead>\n",
       "    <tr style=\"text-align: right;\">\n",
       "      <th></th>\n",
       "      <th>0</th>\n",
       "      <th>1</th>\n",
       "      <th>2</th>\n",
       "      <th>3</th>\n",
       "      <th>4</th>\n",
       "      <th>5</th>\n",
       "      <th>6</th>\n",
       "      <th>7</th>\n",
       "      <th>8</th>\n",
       "      <th>9</th>\n",
       "      <th>...</th>\n",
       "      <th>490</th>\n",
       "      <th>491</th>\n",
       "      <th>492</th>\n",
       "      <th>493</th>\n",
       "      <th>494</th>\n",
       "      <th>495</th>\n",
       "      <th>496</th>\n",
       "      <th>497</th>\n",
       "      <th>498</th>\n",
       "      <th>499</th>\n",
       "    </tr>\n",
       "  </thead>\n",
       "  <tbody>\n",
       "    <tr>\n",
       "      <th>0</th>\n",
       "      <td>1.000000</td>\n",
       "      <td>1.000000</td>\n",
       "      <td>1.000000</td>\n",
       "      <td>1.000000</td>\n",
       "      <td>1.000000</td>\n",
       "      <td>1.000000</td>\n",
       "      <td>1.000000</td>\n",
       "      <td>1.000000</td>\n",
       "      <td>1.000000</td>\n",
       "      <td>1.000000</td>\n",
       "      <td>...</td>\n",
       "      <td>1.000000</td>\n",
       "      <td>1.000000</td>\n",
       "      <td>1.000000</td>\n",
       "      <td>1.000000</td>\n",
       "      <td>1.000000</td>\n",
       "      <td>1.000000</td>\n",
       "      <td>1.000000</td>\n",
       "      <td>1.000000</td>\n",
       "      <td>1.000000</td>\n",
       "      <td>1.000000</td>\n",
       "    </tr>\n",
       "    <tr>\n",
       "      <th>1</th>\n",
       "      <td>0.997740</td>\n",
       "      <td>0.997774</td>\n",
       "      <td>0.995605</td>\n",
       "      <td>0.999539</td>\n",
       "      <td>0.997797</td>\n",
       "      <td>1.003545</td>\n",
       "      <td>0.998160</td>\n",
       "      <td>1.003099</td>\n",
       "      <td>0.995903</td>\n",
       "      <td>0.996190</td>\n",
       "      <td>...</td>\n",
       "      <td>1.002291</td>\n",
       "      <td>0.997965</td>\n",
       "      <td>1.000116</td>\n",
       "      <td>1.000007</td>\n",
       "      <td>1.001841</td>\n",
       "      <td>1.002054</td>\n",
       "      <td>0.999073</td>\n",
       "      <td>1.007477</td>\n",
       "      <td>1.002843</td>\n",
       "      <td>1.000585</td>\n",
       "    </tr>\n",
       "    <tr>\n",
       "      <th>2</th>\n",
       "      <td>0.996730</td>\n",
       "      <td>0.997229</td>\n",
       "      <td>0.995925</td>\n",
       "      <td>0.996409</td>\n",
       "      <td>1.004745</td>\n",
       "      <td>1.003297</td>\n",
       "      <td>0.998021</td>\n",
       "      <td>0.999496</td>\n",
       "      <td>0.993173</td>\n",
       "      <td>0.995593</td>\n",
       "      <td>...</td>\n",
       "      <td>0.996200</td>\n",
       "      <td>0.995061</td>\n",
       "      <td>1.004119</td>\n",
       "      <td>0.995025</td>\n",
       "      <td>0.994426</td>\n",
       "      <td>1.001161</td>\n",
       "      <td>0.999273</td>\n",
       "      <td>1.009755</td>\n",
       "      <td>1.004696</td>\n",
       "      <td>0.995860</td>\n",
       "    </tr>\n",
       "    <tr>\n",
       "      <th>3</th>\n",
       "      <td>0.995560</td>\n",
       "      <td>0.993471</td>\n",
       "      <td>1.003792</td>\n",
       "      <td>0.996369</td>\n",
       "      <td>1.000409</td>\n",
       "      <td>1.000275</td>\n",
       "      <td>1.001032</td>\n",
       "      <td>1.002070</td>\n",
       "      <td>0.993640</td>\n",
       "      <td>1.000713</td>\n",
       "      <td>...</td>\n",
       "      <td>0.999695</td>\n",
       "      <td>0.994665</td>\n",
       "      <td>1.002370</td>\n",
       "      <td>0.993573</td>\n",
       "      <td>0.994213</td>\n",
       "      <td>1.005279</td>\n",
       "      <td>1.001992</td>\n",
       "      <td>1.007050</td>\n",
       "      <td>1.005526</td>\n",
       "      <td>0.988570</td>\n",
       "    </tr>\n",
       "    <tr>\n",
       "      <th>4</th>\n",
       "      <td>0.993556</td>\n",
       "      <td>1.000337</td>\n",
       "      <td>0.998462</td>\n",
       "      <td>0.994102</td>\n",
       "      <td>1.002823</td>\n",
       "      <td>1.002422</td>\n",
       "      <td>0.997969</td>\n",
       "      <td>1.004827</td>\n",
       "      <td>0.987675</td>\n",
       "      <td>1.006664</td>\n",
       "      <td>...</td>\n",
       "      <td>1.004327</td>\n",
       "      <td>0.997693</td>\n",
       "      <td>1.002142</td>\n",
       "      <td>0.984213</td>\n",
       "      <td>0.997025</td>\n",
       "      <td>1.004617</td>\n",
       "      <td>1.001211</td>\n",
       "      <td>1.000745</td>\n",
       "      <td>1.000226</td>\n",
       "      <td>0.989071</td>\n",
       "    </tr>\n",
       "    <tr>\n",
       "      <th>...</th>\n",
       "      <td>...</td>\n",
       "      <td>...</td>\n",
       "      <td>...</td>\n",
       "      <td>...</td>\n",
       "      <td>...</td>\n",
       "      <td>...</td>\n",
       "      <td>...</td>\n",
       "      <td>...</td>\n",
       "      <td>...</td>\n",
       "      <td>...</td>\n",
       "      <td>...</td>\n",
       "      <td>...</td>\n",
       "      <td>...</td>\n",
       "      <td>...</td>\n",
       "      <td>...</td>\n",
       "      <td>...</td>\n",
       "      <td>...</td>\n",
       "      <td>...</td>\n",
       "      <td>...</td>\n",
       "      <td>...</td>\n",
       "      <td>...</td>\n",
       "    </tr>\n",
       "    <tr>\n",
       "      <th>2516</th>\n",
       "      <td>1.926022</td>\n",
       "      <td>1.248494</td>\n",
       "      <td>1.778106</td>\n",
       "      <td>1.349829</td>\n",
       "      <td>2.050292</td>\n",
       "      <td>1.417612</td>\n",
       "      <td>1.389594</td>\n",
       "      <td>1.705089</td>\n",
       "      <td>1.561466</td>\n",
       "      <td>1.544266</td>\n",
       "      <td>...</td>\n",
       "      <td>1.666818</td>\n",
       "      <td>1.239191</td>\n",
       "      <td>1.084350</td>\n",
       "      <td>1.609424</td>\n",
       "      <td>2.095701</td>\n",
       "      <td>1.741207</td>\n",
       "      <td>1.416610</td>\n",
       "      <td>1.394263</td>\n",
       "      <td>1.593610</td>\n",
       "      <td>1.129401</td>\n",
       "    </tr>\n",
       "    <tr>\n",
       "      <th>2517</th>\n",
       "      <td>1.924746</td>\n",
       "      <td>1.244350</td>\n",
       "      <td>1.780549</td>\n",
       "      <td>1.340471</td>\n",
       "      <td>2.051699</td>\n",
       "      <td>1.425535</td>\n",
       "      <td>1.378648</td>\n",
       "      <td>1.706658</td>\n",
       "      <td>1.557067</td>\n",
       "      <td>1.548655</td>\n",
       "      <td>...</td>\n",
       "      <td>1.662748</td>\n",
       "      <td>1.243165</td>\n",
       "      <td>1.085788</td>\n",
       "      <td>1.617846</td>\n",
       "      <td>2.084710</td>\n",
       "      <td>1.743476</td>\n",
       "      <td>1.411761</td>\n",
       "      <td>1.395202</td>\n",
       "      <td>1.586009</td>\n",
       "      <td>1.131698</td>\n",
       "    </tr>\n",
       "    <tr>\n",
       "      <th>2518</th>\n",
       "      <td>1.925332</td>\n",
       "      <td>1.237517</td>\n",
       "      <td>1.774130</td>\n",
       "      <td>1.340675</td>\n",
       "      <td>2.041590</td>\n",
       "      <td>1.414480</td>\n",
       "      <td>1.385780</td>\n",
       "      <td>1.704791</td>\n",
       "      <td>1.561826</td>\n",
       "      <td>1.548996</td>\n",
       "      <td>...</td>\n",
       "      <td>1.667670</td>\n",
       "      <td>1.235352</td>\n",
       "      <td>1.096716</td>\n",
       "      <td>1.632238</td>\n",
       "      <td>2.084312</td>\n",
       "      <td>1.738263</td>\n",
       "      <td>1.411351</td>\n",
       "      <td>1.394750</td>\n",
       "      <td>1.580823</td>\n",
       "      <td>1.130075</td>\n",
       "    </tr>\n",
       "    <tr>\n",
       "      <th>2519</th>\n",
       "      <td>1.915337</td>\n",
       "      <td>1.239817</td>\n",
       "      <td>1.778154</td>\n",
       "      <td>1.339668</td>\n",
       "      <td>2.025459</td>\n",
       "      <td>1.421739</td>\n",
       "      <td>1.386475</td>\n",
       "      <td>1.709275</td>\n",
       "      <td>1.562122</td>\n",
       "      <td>1.556258</td>\n",
       "      <td>...</td>\n",
       "      <td>1.669192</td>\n",
       "      <td>1.229107</td>\n",
       "      <td>1.093577</td>\n",
       "      <td>1.630962</td>\n",
       "      <td>2.083110</td>\n",
       "      <td>1.732834</td>\n",
       "      <td>1.410377</td>\n",
       "      <td>1.392249</td>\n",
       "      <td>1.574978</td>\n",
       "      <td>1.137835</td>\n",
       "    </tr>\n",
       "    <tr>\n",
       "      <th>2520</th>\n",
       "      <td>1.910208</td>\n",
       "      <td>1.239290</td>\n",
       "      <td>1.769181</td>\n",
       "      <td>1.344326</td>\n",
       "      <td>2.014208</td>\n",
       "      <td>1.428257</td>\n",
       "      <td>1.384108</td>\n",
       "      <td>1.713676</td>\n",
       "      <td>1.559458</td>\n",
       "      <td>1.553748</td>\n",
       "      <td>...</td>\n",
       "      <td>1.679509</td>\n",
       "      <td>1.231865</td>\n",
       "      <td>1.097728</td>\n",
       "      <td>1.638256</td>\n",
       "      <td>2.082840</td>\n",
       "      <td>1.736428</td>\n",
       "      <td>1.407134</td>\n",
       "      <td>1.397686</td>\n",
       "      <td>1.577020</td>\n",
       "      <td>1.140857</td>\n",
       "    </tr>\n",
       "  </tbody>\n",
       "</table>\n",
       "<p>2521 rows × 500 columns</p>\n",
       "</div>"
      ],
      "text/plain": [
       "           0         1         2         3         4         5         6    \\\n",
       "0     1.000000  1.000000  1.000000  1.000000  1.000000  1.000000  1.000000   \n",
       "1     0.997740  0.997774  0.995605  0.999539  0.997797  1.003545  0.998160   \n",
       "2     0.996730  0.997229  0.995925  0.996409  1.004745  1.003297  0.998021   \n",
       "3     0.995560  0.993471  1.003792  0.996369  1.000409  1.000275  1.001032   \n",
       "4     0.993556  1.000337  0.998462  0.994102  1.002823  1.002422  0.997969   \n",
       "...        ...       ...       ...       ...       ...       ...       ...   \n",
       "2516  1.926022  1.248494  1.778106  1.349829  2.050292  1.417612  1.389594   \n",
       "2517  1.924746  1.244350  1.780549  1.340471  2.051699  1.425535  1.378648   \n",
       "2518  1.925332  1.237517  1.774130  1.340675  2.041590  1.414480  1.385780   \n",
       "2519  1.915337  1.239817  1.778154  1.339668  2.025459  1.421739  1.386475   \n",
       "2520  1.910208  1.239290  1.769181  1.344326  2.014208  1.428257  1.384108   \n",
       "\n",
       "           7         8         9    ...       490       491       492  \\\n",
       "0     1.000000  1.000000  1.000000  ...  1.000000  1.000000  1.000000   \n",
       "1     1.003099  0.995903  0.996190  ...  1.002291  0.997965  1.000116   \n",
       "2     0.999496  0.993173  0.995593  ...  0.996200  0.995061  1.004119   \n",
       "3     1.002070  0.993640  1.000713  ...  0.999695  0.994665  1.002370   \n",
       "4     1.004827  0.987675  1.006664  ...  1.004327  0.997693  1.002142   \n",
       "...        ...       ...       ...  ...       ...       ...       ...   \n",
       "2516  1.705089  1.561466  1.544266  ...  1.666818  1.239191  1.084350   \n",
       "2517  1.706658  1.557067  1.548655  ...  1.662748  1.243165  1.085788   \n",
       "2518  1.704791  1.561826  1.548996  ...  1.667670  1.235352  1.096716   \n",
       "2519  1.709275  1.562122  1.556258  ...  1.669192  1.229107  1.093577   \n",
       "2520  1.713676  1.559458  1.553748  ...  1.679509  1.231865  1.097728   \n",
       "\n",
       "           493       494       495       496       497       498       499  \n",
       "0     1.000000  1.000000  1.000000  1.000000  1.000000  1.000000  1.000000  \n",
       "1     1.000007  1.001841  1.002054  0.999073  1.007477  1.002843  1.000585  \n",
       "2     0.995025  0.994426  1.001161  0.999273  1.009755  1.004696  0.995860  \n",
       "3     0.993573  0.994213  1.005279  1.001992  1.007050  1.005526  0.988570  \n",
       "4     0.984213  0.997025  1.004617  1.001211  1.000745  1.000226  0.989071  \n",
       "...        ...       ...       ...       ...       ...       ...       ...  \n",
       "2516  1.609424  2.095701  1.741207  1.416610  1.394263  1.593610  1.129401  \n",
       "2517  1.617846  2.084710  1.743476  1.411761  1.395202  1.586009  1.131698  \n",
       "2518  1.632238  2.084312  1.738263  1.411351  1.394750  1.580823  1.130075  \n",
       "2519  1.630962  2.083110  1.732834  1.410377  1.392249  1.574978  1.137835  \n",
       "2520  1.638256  2.082840  1.736428  1.407134  1.397686  1.577020  1.140857  \n",
       "\n",
       "[2521 rows x 500 columns]"
      ]
     },
     "execution_count": 39,
     "metadata": {},
     "output_type": "execute_result"
    }
   ],
   "source": [
    "# Run the Monte Carlo simulation to forecast 10 years cumulative returns\n",
    "MC_Ten_Year.calc_cumulative_return()\n"
   ]
  },
  {
   "cell_type": "code",
   "execution_count": 40,
   "metadata": {},
   "outputs": [
    {
     "data": {
      "text/plain": [
       "<AxesSubplot:title={'center':'500 Simulations of Cumulative Portfolio Return Trajectories Over the Next 2520 Trading Days.'}>"
      ]
     },
     "execution_count": 40,
     "metadata": {},
     "output_type": "execute_result"
    },
    {
     "data": {
      "image/png": "[encoded data removed]",
      "text/plain": [
       "<Figure size 432x288 with 1 Axes>"
      ]
     },
     "metadata": {
      "needs_background": "light"
     },
     "output_type": "display_data"
    }
   ],
   "source": [
    "# Visualize the 10-year Monte Carlo simulation by creating an\n",
    "# overlay line plot\n",
    "MC_Ten_Year.plot_simulation()\n"
   ]
  },
  {
   "cell_type": "code",
   "execution_count": 41,
   "metadata": {},
   "outputs": [
    {
     "data": {
      "text/plain": [
       "<AxesSubplot:title={'center':'Distribution of Final Cumuluative Returns Across All 500 Simulations'}, ylabel='Frequency'>"
      ]
     },
     "execution_count": 41,
     "metadata": {},
     "output_type": "execute_result"
    },
    {
     "data": {
      "image/png": "[encoded data removed]",
      "text/plain": [
       "<Figure size 432x288 with 1 Axes>"
      ]
     },
     "metadata": {
      "needs_background": "light"
     },
     "output_type": "display_data"
    }
   ],
   "source": [
    "# Visualize the probability distribution of the 10-year Monte Carlo simulation \n",
    "# by plotting a histogram\n",
    "MC_Ten_Year.plot_distribution()\n"
   ]
  },
  {
   "cell_type": "code",
   "execution_count": 42,
   "metadata": {},
   "outputs": [
    {
     "data": {
      "text/plain": [
       "count           500.000000\n",
       "mean              1.537412\n",
       "std               0.292850\n",
       "min               0.895947\n",
       "25%               1.326079\n",
       "50%               1.509612\n",
       "75%               1.715981\n",
       "max               2.467913\n",
       "95% CI Lower      1.056209\n",
       "95% CI Upper      2.216752\n",
       "Name: 2520, dtype: float64"
      ]
     },
     "execution_count": 42,
     "metadata": {},
     "output_type": "execute_result"
    }
   ],
   "source": [
    "# Generate summary statistics from the 10-year Monte Carlo simulation results\n",
    "# Save the results as a variable\n",
    "MC_Ten_Year_Summary = MC_Ten_Year.summarize_cumulative_return()\n",
    "\n",
    "\n",
    "# Review the 10-year Monte Carlo summary statistics\n",
    "MC_Ten_Year_Summary"
   ]
  },
  {
   "cell_type": "markdown",
   "metadata": {},
   "source": [
    "### Answer the following questions:"
   ]
  },
  {
   "cell_type": "markdown",
   "metadata": {},
   "source": [
    "#### Question: Using the current value of only the stock and bond portion of the member's portfolio and the summary statistics that you generated from the new Monte Carlo simulation, what are the lower and upper bounds for the expected value of the portfolio (with the new weights) with a 95% confidence interval?"
   ]
  },
  {
   "cell_type": "code",
   "execution_count": 43,
   "metadata": {},
   "outputs": [
    {
     "name": "stdout",
     "output_type": "stream",
     "text": [
      "AGG: $ 23889.0 SPY: $ 36800.5\n"
     ]
    }
   ],
   "source": [
    "# Print the current balance of the stock and bond portion of the members portfolio\n",
    "print(\"AGG: $\", agg_value, \"SPY: $\", spy_value)\n"
   ]
  },
  {
   "cell_type": "code",
   "execution_count": 44,
   "metadata": {},
   "outputs": [
    {
     "name": "stdout",
     "output_type": "stream",
     "text": [
      "There is a 95% chance that an initial investment of $60689.5 in the porfolio over the next 10 years will end within the range of $ 64100.78 and  134533.54\n"
     ]
    }
   ],
   "source": [
    "# Use the lower and upper `95%` confidence intervals to calculate the range of the possible outcomes for the current stock/bond portfolio\n",
    "ci_lower_ten_cumulative_return = round(MC_Ten_Year_Summary[\"95% CI Lower\"] * total_stocks_bonds,2)\n",
    "ci_upper_ten_cumulative_return = round(MC_Ten_Year_Summary[\"95% CI Upper\"] * total_stocks_bonds,2)\n",
    "\n",
    "\n",
    "# Print the result of your calculations\n",
    "print(f\"There is a 95% chance that an initial investment of ${total_stocks_bonds} in the porfolio\"\n",
    "    f\" over the next 10 years will end within the range of\"\n",
    "    f\" ${ci_lower_ten_cumulative_return: .2f} and {ci_upper_ten_cumulative_return: .2f}\"\n",
    ")\n"
   ]
  },
  {
   "cell_type": "markdown",
   "metadata": {},
   "source": [
    "#### Question: Will weighting the portfolio more heavily to stocks allow the credit union members to retire after only 10 years?"
   ]
  },
  {
   "cell_type": "raw",
   "metadata": {},
   "source": [
    "**Answer** # YOUR ANSWER HERE"
   ]
  },
  {
   "cell_type": "code",
   "execution_count": null,
   "metadata": {},
   "outputs": [],
   "source": []
  }
 ],
 "metadata": {
  "interpreter": {
   "hash": "4396f389b93e7269692bd3bea4c62813bbe379469bde939b058805f538feec11"
  },
  "kernelspec": {
   "display_name": "Python [conda env:blended]",
   "language": "python",
   "name": "python3"
  },
  "language_info": {
   "codemirror_mode": {
    "name": "ipython",
    "version": 3
   },
   "file_extension": ".py",
   "mimetype": "text/x-python",
   "name": "python",
   "nbconvert_exporter": "python",
   "pygments_lexer": "ipython3",
   "version": "3.7.10"
  }
 },
 "nbformat": 4,
 "nbformat_minor": 4
}
